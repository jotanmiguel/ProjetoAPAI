{
 "cells": [
  {
   "cell_type": "markdown",
   "id": "4c5d90e1",
   "metadata": {},
   "source": [
    "# Projeto: Impacto do Airbnb em Fatores Urbanos em Portugal\n",
    "Este notebook faz parte da Fase 1 do projeto da unidade curricular.\n",
    "\n",
    "## Objetivos:\n",
    "- Integrar dados de diferentes fontes (Airbnb, INE, etc.)\n",
    "- Analisar a relação entre densidade de alojamentos locais, população e rendas\n",
    "- Implementar técnicas de data cleaning, schema integration e identity resolution\n"
   ]
  },
  {
   "cell_type": "code",
   "execution_count": 16,
   "id": "1d476029",
   "metadata": {},
   "outputs": [],
   "source": [
    "# Importar bibliotecas\n",
    "import pandas as pd\n",
    "import numpy as np\n",
    "import matplotlib.pyplot as plt\n",
    "import seaborn as sns\n",
    "\n",
    "# Leitura dos datasets\n",
    "listings = pd.read_csv(r'dados\\portugal_listings.csv')\n",
    "rendas = pd.read_json(r'dados\\rendasm2.json')\n",
    "rendas = pd.DataFrame(rendas['Dados'][0]['2023'])\n",
    "densidade_pop = pd.read_json(r'dados\\densidadePopulacional.json')\n",
    "densidade_pop = pd.DataFrame(densidade_pop['Dados'][0]['2022'])\n",
    "densidade_aloj = pd.read_json(r'dados\\densidadealojamentosm2.json')\n",
    "densidade_aloj = pd.DataFrame(densidade_aloj['Dados'][0]['2021'])"
   ]
  },
  {
   "cell_type": "markdown",
   "id": "2027d1b6",
   "metadata": {},
   "source": [
    "## 3. Data Profiling\n",
    "\n",
    "- Número de entradas\n",
    "- Tipos de dados\n",
    "- Percentagem de valores nulos\n",
    "- Cardinalidade de colunas relevantes\n"
   ]
  },
  {
   "cell_type": "code",
   "execution_count": 22,
   "id": "7075979f",
   "metadata": {},
   "outputs": [
    {
     "name": "stdout",
     "output_type": "stream",
     "text": [
      "<class 'pandas.core.frame.DataFrame'>\n",
      "RangeIndex: 135536 entries, 0 to 135535\n",
      "Data columns (total 14 columns):\n",
      " #   Column       Non-Null Count   Dtype  \n",
      "---  ------       --------------   -----  \n",
      " 0   Price        135236 non-null  float64\n",
      " 1   District     135536 non-null  object \n",
      " 2   City         135536 non-null  object \n",
      " 3   Town         135534 non-null  object \n",
      " 4   Unnamed: 4   0 non-null       float64\n",
      " 5   Unnamed: 5   0 non-null       float64\n",
      " 6   Unnamed: 6   0 non-null       float64\n",
      " 7   Unnamed: 7   0 non-null       float64\n",
      " 8   Unnamed: 8   0 non-null       float64\n",
      " 9   Unnamed: 9   0 non-null       float64\n",
      " 10  Unnamed: 10  0 non-null       float64\n",
      " 11  Unnamed: 11  0 non-null       float64\n",
      " 12  Unnamed: 12  0 non-null       float64\n",
      " 13  Unnamed: 13  0 non-null       float64\n",
      "dtypes: float64(11), object(3)\n",
      "memory usage: 14.5+ MB\n"
     ]
    },
    {
     "data": {
      "text/plain": [
       "Price             300\n",
       "District            0\n",
       "City                0\n",
       "Town                2\n",
       "Unnamed: 4     135536\n",
       "Unnamed: 5     135536\n",
       "Unnamed: 6     135536\n",
       "Unnamed: 7     135536\n",
       "Unnamed: 8     135536\n",
       "Unnamed: 9     135536\n",
       "Unnamed: 10    135536\n",
       "Unnamed: 11    135536\n",
       "Unnamed: 12    135536\n",
       "Unnamed: 13    135536\n",
       "dtype: int64"
      ]
     },
     "execution_count": 22,
     "metadata": {},
     "output_type": "execute_result"
    }
   ],
   "source": [
    "listings.info()\n",
    "listings.describe()\n",
    "listings.isnull().sum()"
   ]
  },
  {
   "cell_type": "markdown",
   "id": "47e9dca7",
   "metadata": {},
   "source": [
    "portugal_listings.csv\n",
    "\n",
    "| Coluna                  | Tipo de Dado | Valores Não Nulos | Valores Nulos | % Nulos | Ação Planeada               |\n",
    "|-------------------------|--------------|-------------------|----------------|---------|-----------------------------|\n",
    "| `Price`                 | float64      | 135236            | 300            | 0.22%   | Remover nulos ou imputar    |\n",
    "| `District`              | object       | 135536            | 0              | 0.00%   | Manter                      |\n",
    "| `City`                  | object       | 135536            | 0              | 0.00%   | Manter                      |\n",
    "| `Town`                  | object       | 135534            | 2              | 0.001%  | Imputar com `City` ou remover |\n",
    "| `Unnamed: 4` a `Unnamed: 13` | float64 | 0              | 135536         | 100%    | Remover todas               |\n"
   ]
  },
  {
   "cell_type": "code",
   "execution_count": 23,
   "id": "d3488cd1",
   "metadata": {},
   "outputs": [
    {
     "name": "stdout",
     "output_type": "stream",
     "text": [
      "<class 'pandas.core.frame.DataFrame'>\n",
      "RangeIndex: 638 entries, 0 to 637\n",
      "Data columns (total 6 columns):\n",
      " #   Column           Non-Null Count  Dtype \n",
      "---  ------           --------------  ----- \n",
      " 0   geocod           638 non-null    object\n",
      " 1   geodsg           638 non-null    object\n",
      " 2   ind_string       638 non-null    object\n",
      " 3   valor            431 non-null    object\n",
      " 4   sinal_conv       207 non-null    object\n",
      " 5   sinal_conv_desc  207 non-null    object\n",
      "dtypes: object(6)\n",
      "memory usage: 30.0+ KB\n"
     ]
    },
    {
     "data": {
      "text/plain": [
       "geocod               0\n",
       "geodsg               0\n",
       "ind_string           0\n",
       "valor              207\n",
       "sinal_conv         431\n",
       "sinal_conv_desc    431\n",
       "dtype: int64"
      ]
     },
     "execution_count": 23,
     "metadata": {},
     "output_type": "execute_result"
    }
   ],
   "source": [
    "rendas.info()\n",
    "rendas.describe()\n",
    "rendas.isnull().sum()"
   ]
  },
  {
   "cell_type": "markdown",
   "id": "96956d9c",
   "metadata": {},
   "source": [
    "rendasm2.json\n",
    "\n",
    "| Coluna            | Tipo de Dado | Valores Não Nulos | Valores Nulos | % Nulos | Ação Planeada                                 |\n",
    "|-------------------|--------------|-------------------|----------------|---------|-----------------------------------------------|\n",
    "| `geocod`          | object       | 638               | 0              | 0.00%   | Manter                                        |\n",
    "| `geodsg`          | object       | 638               | 0              | 0.00%   | Usar como chave para junção                   |\n",
    "| `ind_string`      | object       | 638               | 0              | 0.00%   | Ignorar                                       |\n",
    "| `valor`           | object       | 431               | 207            | 32.45%  | Eliminar ou ignorar entradas nulas            |\n",
    "| `sinal_conv`      | object       | 207               | 431            | 67.55%  | Apenas explicativo (motivo da ausência de valor) |\n",
    "| `sinal_conv_desc` | object       | 207               | 431            | 67.55%  | Ignorar ou mover para anexo                   |\n"
   ]
  },
  {
   "cell_type": "code",
   "execution_count": 19,
   "id": "75114dc8",
   "metadata": {},
   "outputs": [
    {
     "name": "stdout",
     "output_type": "stream",
     "text": [
      "<class 'pandas.core.frame.DataFrame'>\n",
      "RangeIndex: 344 entries, 0 to 343\n",
      "Data columns (total 4 columns):\n",
      " #   Column      Non-Null Count  Dtype \n",
      "---  ------      --------------  ----- \n",
      " 0   geocod      344 non-null    object\n",
      " 1   geodsg      344 non-null    object\n",
      " 2   ind_string  344 non-null    object\n",
      " 3   valor       344 non-null    object\n",
      "dtypes: object(4)\n",
      "memory usage: 10.9+ KB\n"
     ]
    },
    {
     "data": {
      "text/plain": [
       "geocod        0\n",
       "geodsg        0\n",
       "ind_string    0\n",
       "valor         0\n",
       "dtype: int64"
      ]
     },
     "execution_count": 19,
     "metadata": {},
     "output_type": "execute_result"
    }
   ],
   "source": [
    "densidade_pop.info()\n",
    "densidade_pop.describe()\n",
    "densidade_pop.isnull().sum()"
   ]
  },
  {
   "cell_type": "markdown",
   "id": "ce7934a7",
   "metadata": {},
   "source": [
    "densidadePopulacional.json\n",
    "\n",
    "| Coluna       | Tipo de Dado | Valores Não Nulos | Valores Nulos | % Nulos | Ação Planeada                     |\n",
    "|--------------|--------------|-------------------|----------------|---------|-----------------------------------|\n",
    "| `geocod`     | object       | 344               | 0              | 0.00%   | Manter                            |\n",
    "| `geodsg`     | object       | 344               | 0              | 0.00%   | Usar como chave                   |\n",
    "| `ind_string` | object       | 344               | 0              | 0.00%   | Ignorar                           |\n",
    "| `valor`      | object       | 344               | 0              | 0.00%   | Converter para float              |\n"
   ]
  },
  {
   "cell_type": "code",
   "execution_count": 20,
   "id": "bfadba54",
   "metadata": {},
   "outputs": [
    {
     "name": "stdout",
     "output_type": "stream",
     "text": [
      "<class 'pandas.core.frame.DataFrame'>\n",
      "RangeIndex: 3439 entries, 0 to 3438\n",
      "Data columns (total 4 columns):\n",
      " #   Column      Non-Null Count  Dtype \n",
      "---  ------      --------------  ----- \n",
      " 0   geocod      3439 non-null   object\n",
      " 1   geodsg      3439 non-null   object\n",
      " 2   ind_string  3439 non-null   object\n",
      " 3   valor       3439 non-null   object\n",
      "dtypes: object(4)\n",
      "memory usage: 107.6+ KB\n"
     ]
    },
    {
     "data": {
      "text/plain": [
       "geocod        0\n",
       "geodsg        0\n",
       "ind_string    0\n",
       "valor         0\n",
       "dtype: int64"
      ]
     },
     "execution_count": 20,
     "metadata": {},
     "output_type": "execute_result"
    }
   ],
   "source": [
    "densidade_aloj.info()\n",
    "densidade_aloj.describe()\n",
    "densidade_aloj.isnull().sum()"
   ]
  },
  {
   "cell_type": "markdown",
   "id": "077fe84d",
   "metadata": {},
   "source": [
    "densidadelojamentosm2.json\n",
    "\n",
    "| Coluna       | Tipo de Dado | Valores Não Nulos | Valores Nulos | % Nulos | Ação Planeada                     |\n",
    "|--------------|--------------|-------------------|----------------|---------|-----------------------------------|\n",
    "| `geocod`     | object       | 344               | 0              | 0.00%   | Manter                            |\n",
    "| `geodsg`     | object       | 344               | 0              | 0.00%   | Usar como chave                   |\n",
    "| `ind_string` | object       | 344               | 0              | 0.00%   | Ignorar                           |\n",
    "| `valor`      | object       | 344               | 0              | 0.00%   | Converter para float              |\n"
   ]
  },
  {
   "cell_type": "markdown",
   "id": "baf62145",
   "metadata": {},
   "source": [
    "### Conclusões do Data Profiling\n",
    "\n",
    "Após a leitura e análise dos datasets, foi possível identificar a seguinte situação:\n",
    "\n",
    "- Os dados extraídos dos ficheiros `.json` e `.csv` foram corretamente convertidos em tabelas pandas a partir da chave `\"Dados\"`.\n",
    "- As colunas `valor`, apesar de estarem no formato `object`, podem ser convertidas para `float` após a substituição da vírgula pelo ponto decimal.\n",
    "- No dataset das rendas (`rendasm2.json`), foi detetada uma percentagem significativa de valores nulos (~32%) na coluna `valor`, que deverão ser removidos ou imputados.\n",
    "- Todos os datasets possuem a coluna `geodsg`, que será usada como **chave principal de junção**.\n",
    "- A coluna `geocod` foi mantida por agora, uma vez que poderá ser útil para cruzamentos futuros com dados geográficos oficiais.\n",
    "- Os campos como `ind_string`, `sinal_conv` e `sinal_conv_desc` foram considerados auxiliares e não serão usados na análise principal.\n",
    "\n",
    "**Próximos passos:**\n",
    "- Conversão das colunas `valor` para `float`.\n",
    "- Remoção dos registos com valores nulos nas variáveis principais.\n",
    "- Normalização de nomes para futura integração entre datasets.\n"
   ]
  },
  {
   "cell_type": "code",
   "execution_count": 73,
   "id": "a30e757a-df78-420d-a09e-3ebccca7bf26",
   "metadata": {
    "scrolled": true
   },
   "outputs": [
    {
     "name": "stdout",
     "output_type": "stream",
     "text": [
      "Columns in the DataFrame: Index(['Price', 'District', 'City', 'Town', 'Unnamed: 4', 'Unnamed: 5',\n",
      "       'Unnamed: 6', 'Unnamed: 7', 'Unnamed: 8', 'Unnamed: 9', 'Unnamed: 10',\n",
      "       'Unnamed: 11', 'Unnamed: 12', 'Unnamed: 13'],\n",
      "      dtype='object')\n",
      "      Price   District                  City  \\\n",
      "0  780000.0  Vila Real              Valpaços   \n",
      "1  223000.0       Faro  São Brás de Alportel   \n",
      "2  228000.0       Faro  São Brás de Alportel   \n",
      "3  250000.0       Faro  São Brás de Alportel   \n",
      "4  250000.0       Faro  São Brás de Alportel   \n",
      "\n",
      "                               Town  Unnamed: 4  Unnamed: 5  Unnamed: 6  \\\n",
      "0  Carrazedo de Montenegro e Curros         NaN         NaN         NaN   \n",
      "1              São Brás de Alportel         NaN         NaN         NaN   \n",
      "2              São Brás de Alportel         NaN         NaN         NaN   \n",
      "3              São Brás de Alportel         NaN         NaN         NaN   \n",
      "4              São Brás de Alportel         NaN         NaN         NaN   \n",
      "\n",
      "   Unnamed: 7  Unnamed: 8  Unnamed: 9  Unnamed: 10  Unnamed: 11  Unnamed: 12  \\\n",
      "0         NaN         NaN         NaN          NaN          NaN          NaN   \n",
      "1         NaN         NaN         NaN          NaN          NaN          NaN   \n",
      "2         NaN         NaN         NaN          NaN          NaN          NaN   \n",
      "3         NaN         NaN         NaN          NaN          NaN          NaN   \n",
      "4         NaN         NaN         NaN          NaN          NaN          NaN   \n",
      "\n",
      "   Unnamed: 13  \n",
      "0          NaN  \n",
      "1          NaN  \n",
      "2          NaN  \n",
      "3          NaN  \n",
      "4          NaN  \n"
     ]
    }
   ],
   "source": [
    "import pandas as pd\n",
    "\n",
    "# Load the CSV file\n",
    "file_path = 'dados/portugal_listings.csv'  # Replace with the actual file path\n",
    "df = pd.read_csv(file_path)\n",
    "\n",
    "# Print the column names to verify\n",
    "print(\"Columns in the DataFrame:\", df.columns)\n",
    "\n",
    "# Rename columns (if necessary)\n",
    "df = df.rename(columns={\n",
    "    'Price': 'Price',\n",
    "    'District': 'District',\n",
    "    'City': 'City',\n",
    "    'Town': 'Town'\n",
    "    # Add more columns as needed\n",
    "})\n",
    "\n",
    "# Convert Price to numeric (if it's not already)\n",
    "df['Price'] = pd.to_numeric(df['Price'], errors='coerce')\n",
    "\n",
    "# Handle missing values (e.g., replace NaN with a default value or drop rows)\n",
    "df['Price'] = df['Price'].fillna(0)  # Replace NaN with 0, or use another strategy\n",
    "\n",
    "# Filter out rows with missing or non-applicable data\n",
    "df_filtered = df[df['Price'].notna()]\n",
    "\n",
    "# Display the cleaned DataFrame\n",
    "print(df_filtered.head())\n"
   ]
  },
  {
   "cell_type": "code",
   "execution_count": 7,
   "id": "c16762cb-c6a3-4e05-84ee-be50c8826751",
   "metadata": {},
   "outputs": [
    {
     "name": "stdout",
     "output_type": "stream",
     "text": [
      "               Concelho                       Address    Latitude   Longitude\n",
      "0              Abrantes            Abrantes, Portugal  39.4630563  -8.1995808\n",
      "1                Águeda              Águeda, Portugal  40.5754246  -8.4464368\n",
      "2       Aguiar da Beira     Aguiar da Beira, Portugal   40.816453  -7.5454104\n",
      "3             Alandroal           Alandroal, Portugal  38.7021331  -7.4036488\n",
      "4    Albergaria-a-Velha  Albergaria-a-Velha, Portugal  40.6894236  -8.4796655\n",
      "..                  ...                           ...         ...         ...\n",
      "300             Vimioso             Vimioso, Portugal  41.5844451  -6.5291211\n",
      "301             Vinhais             Vinhais, Portugal  41.8307225  -7.0093005\n",
      "302               Viseu               Viseu, Portugal  40.6565861  -7.9124712\n",
      "303              Vizela              Vizela, Portugal  41.3764108  -8.3098348\n",
      "304             Vouzela             Vouzela, Portugal  40.7231807  -8.1120232\n",
      "\n",
      "[305 rows x 4 columns]\n"
     ]
    }
   ],
   "source": [
    "import xml.etree.ElementTree as ET\n",
    "\n",
    "tree = ET.parse('concelhos.up.xml')  # Parse XML file\n",
    "root = tree.getroot()  # Get root element\n",
    "\n",
    "objects_data = []\n",
    "for object_element in root.findall(\"Object\"):\n",
    "    object_dict = {}\n",
    "    for property_element in object_element.findall(\"Property\"):\n",
    "        name = property_element.get(\"Name\")\n",
    "        value = property_element.text\n",
    "        object_dict[name] = value\n",
    "    objects_data.append(object_dict)\n",
    "\n",
    "df = pd.DataFrame(objects_data)\n",
    "    \n",
    "print(df)"
   ]
  },
  {
   "cell_type": "code",
   "execution_count": 63,
   "id": "6f8dccdc-34ad-4645-b0e1-e43522c5440d",
   "metadata": {},
   "outputs": [
    {
     "name": "stdout",
     "output_type": "stream",
     "text": [
      "Columns in the DataFrame: Index(['geocod', 'geodsg', 'ind_string', 'valor'], dtype='object')\n",
      "  RegionCode                                         RegionName DensityString  \\\n",
      "0     070513                                Torre de Coelheiros           2,1   \n",
      "1     070601                                            Cabrela           2,2   \n",
      "2     031003                                     Campo do Gerês           2,3   \n",
      "3     120302                                       Aldeia Velha           2,4   \n",
      "4     070525  União das freguesias de Nossa Senhora da Toure...           2,5   \n",
      "\n",
      "   DensityValue  \n",
      "0           2.1  \n",
      "1           2.2  \n",
      "2           2.3  \n",
      "3           2.4  \n",
      "4           2.5  \n"
     ]
    }
   ],
   "source": [
    "import json\n",
    "import pandas as pd\n",
    "\n",
    "# Load the JSON file\n",
    "file_path = 'dados/densidadealojamentosm2.json'  # Replace with the actual file path\n",
    "with open(file_path, 'r', encoding='utf-8') as f:\n",
    "    data = json.load(f)\n",
    "\n",
    "# Extract the 2021 data\n",
    "dados_2021 = data[0]['Dados']['2021']\n",
    "\n",
    "# Convert the list of dictionaries into a DataFrame\n",
    "df = pd.DataFrame(dados_2021)\n",
    "\n",
    "# Print the column names to verify\n",
    "print(\"Columns in the DataFrame:\", df.columns)\n",
    "\n",
    "# Rename columns\n",
    "df = df.rename(columns={\n",
    "    'geocod': 'RegionCode',\n",
    "    'geodsg': 'RegionName',\n",
    "    'ind_string': 'DensityString',\n",
    "    'valor': 'DensityValue'  # Ensure this matches the actual column name\n",
    "})\n",
    "\n",
    "# Convert DensityValue to numeric\n",
    "df['DensityValue'] = pd.to_numeric(df['DensityValue'], errors='coerce')\n",
    "\n",
    "# Handle missing values (e.g., replace \"-\" with NaN)\n",
    "df['DensityValue'] = df['DensityValue'].replace('-', None)\n",
    "\n",
    "# Filter out rows with missing or non-applicable data\n",
    "df_filtered = df[df['DensityValue'].notna()]\n",
    "\n",
    "# Display the cleaned DataFrame\n",
    "print(df_filtered.head())"
   ]
  },
  {
   "cell_type": "code",
   "execution_count": 57,
   "id": "c59e7093-f407-44e3-bae9-334ea03574bb",
   "metadata": {},
   "outputs": [
    {
     "name": "stdout",
     "output_type": "stream",
     "text": [
      "Columns in the DataFrame: Index(['geocod', 'geodsg', 'ind_string', 'valor'], dtype='object')\n",
      "  RegionCode     RegionName DensityString  DensityValue\n",
      "0    1500802       Alcoutim           4,3           4.3\n",
      "1    1840209        Mértola           4,8           4.8\n",
      "2    16H0505  Idanha-a-Nova           5,9           5.9\n",
      "3    1861203           Avis           6,2           6.2\n",
      "4    1861211       Monforte           7,1           7.1\n"
     ]
    }
   ],
   "source": [
    "import json\n",
    "import pandas as pd\n",
    "\n",
    "# Load the JSON file\n",
    "file_path = 'dados/densidadePopulacional.json'  # Replace with the actual file path\n",
    "with open(file_path, 'r', encoding='utf-8') as f:\n",
    "    data = json.load(f)\n",
    "\n",
    "# Extract the 2022 data\n",
    "dados_2022 = data[0]['Dados']['2022']\n",
    "\n",
    "# Convert the list of dictionaries into a DataFrame\n",
    "df = pd.DataFrame(dados_2022)\n",
    "\n",
    "# Print the column names to verify\n",
    "print(\"Columns in the DataFrame:\", df.columns)\n",
    "\n",
    "# Rename columns\n",
    "df = df.rename(columns={\n",
    "    'geocod': 'RegionCode',\n",
    "    'geodsg': 'RegionName',\n",
    "    'ind_string': 'DensityString',\n",
    "    'valor': 'DensityValue'  # Ensure this matches the actual column name\n",
    "})\n",
    "\n",
    "# Convert DensityValue to numeric\n",
    "df['DensityValue'] = pd.to_numeric(df['DensityValue'], errors='coerce')\n",
    "\n",
    "# Handle missing values (e.g., replace \"-\" with NaN)\n",
    "df['DensityValue'] = df['DensityValue'].replace('-', None)\n",
    "\n",
    "# Filter out rows with missing or non-applicable data\n",
    "df_filtered = df[df['DensityValue'].notna()]\n",
    "\n",
    "# Display the cleaned DataFrame\n",
    "print(df_filtered.head())"
   ]
  },
  {
   "cell_type": "code",
   "execution_count": 53,
   "id": "dde95fce-c9ca-4f79-9222-4f6f10def11f",
   "metadata": {},
   "outputs": [
    {
     "name": "stdout",
     "output_type": "stream",
     "text": [
      "Columns in the DataFrame: Index(['geocod', 'geodsg', 'ind_string', 'valor', 'sinal_conv',\n",
      "       'sinal_conv_desc'],\n",
      "      dtype='object')\n",
      "  RegionCode            RegionName RentString  RentValue SignalCode  \\\n",
      "0    11D0914  Vila Nova de Foz Côa       2,08       2.08        NaN   \n",
      "1    11E0410             Vila Flor       2,29       2.29        NaN   \n",
      "2    1960913              Trancoso       2,41       2.41        NaN   \n",
      "3    1960501              Belmonte       2,61       2.61        NaN   \n",
      "4    11C1302                 Baião       2,63       2.63        NaN   \n",
      "\n",
      "  SignalDescription  \n",
      "0               NaN  \n",
      "1               NaN  \n",
      "2               NaN  \n",
      "3               NaN  \n",
      "4               NaN  \n"
     ]
    }
   ],
   "source": [
    "import json\n",
    "import pandas as pd\n",
    "\n",
    "# Load the JSON file\n",
    "file_path = 'dados/rendasm2.json'  # Replace with the actual file path\n",
    "with open(file_path, 'r', encoding='utf-8') as f:\n",
    "    data = json.load(f)\n",
    "\n",
    "# Extract the 2023 data\n",
    "dados_2023 = data[0]['Dados']['2023']\n",
    "\n",
    "# Convert the list of dictionaries into a DataFrame\n",
    "df = pd.DataFrame(dados_2023)\n",
    "\n",
    "# Print the column names to verify\n",
    "print(\"Columns in the DataFrame:\", df.columns)\n",
    "\n",
    "# Rename columns\n",
    "df = df.rename(columns={\n",
    "    'geocod': 'RegionCode',\n",
    "    'geodsg': 'RegionName',\n",
    "    'ind_string': 'RentString',\n",
    "    'valor': 'RentValue',  # Ensure this matches the actual column name\n",
    "    'sinal_conv': 'SignalCode',\n",
    "    'sinal_conv_desc': 'SignalDescription'\n",
    "})\n",
    "\n",
    "# Convert RentValue to numeric\n",
    "df['RentValue'] = pd.to_numeric(df['RentValue'], errors='coerce')\n",
    "\n",
    "# Handle missing values (e.g., replace \"-\" with NaN)\n",
    "df['RentValue'] = df['RentValue'].replace('-', None)\n",
    "\n",
    "# Filter out rows with missing or non-applicable data\n",
    "df_filtered = df[df['RentValue'].notna()]\n",
    "\n",
    "# Display the cleaned DataFrame\n",
    "print(df_filtered.head())"
   ]
  },
  {
   "cell_type": "code",
   "execution_count": null,
   "id": "e811e58b-41ab-4d5d-a1bd-0f4d52684d9e",
   "metadata": {},
   "outputs": [],
   "source": []
  }
 ],
 "metadata": {
  "kernelspec": {
   "display_name": "Python 3",
   "language": "python",
   "name": "python3"
  },
  "language_info": {
   "codemirror_mode": {
    "name": "ipython",
    "version": 3
   },
   "file_extension": ".py",
   "mimetype": "text/x-python",
   "name": "python",
   "nbconvert_exporter": "python",
   "pygments_lexer": "ipython3",
   "version": "3.12.2"
  }
 },
 "nbformat": 4,
 "nbformat_minor": 5
}
