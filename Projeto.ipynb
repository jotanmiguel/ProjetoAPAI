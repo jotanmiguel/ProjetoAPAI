{
 "cells": [
  {
   "cell_type": "markdown",
   "id": "4c5d90e1",
   "metadata": {},
   "source": [
    "# 🧠 Projeto: Impacto dos Alojamentos Locais no Mercado da Habitação\n",
    "Este notebook faz parte da Fase 1 do projeto da unidade curricular."
   ]
  },
  {
   "cell_type": "markdown",
   "id": "0ddfd692",
   "metadata": {},
   "source": [
    "## 📌 Objetivos:\n",
    "- Integrar dados de diferentes fontes.\n",
    "- Analisar a relação entre densidade de alojamentos locais, população e rendas\n",
    "- Implementar técnicas de data cleaning, schema integration e identity resolution"
   ]
  },
  {
   "cell_type": "markdown",
   "id": "91ebb724",
   "metadata": {},
   "source": [
    "---"
   ]
  },
  {
   "cell_type": "markdown",
   "id": "384080bc",
   "metadata": {},
   "source": [
    "## 📦 Importação de Dados"
   ]
  },
  {
   "cell_type": "markdown",
   "id": "607d957f",
   "metadata": {},
   "source": [
    "Nesta secção, são importados os diferentes datasets necessários para a análise do impacto do Airbnb em fatores urbanos em Portugal. Cada dataset provém de uma fonte distinta e representa uma perspetiva específica da realidade urbana, como densidade populacional, oferta de alojamentos locais, preços de renda, e dados territoriais.\n",
    "\n",
    "Os datasets importados são os seguintes:\n",
    "\n",
    "- **`portugal_listings.csv`**: Contém informações sobre os imóveis disponíveis para aluguer em território nacional, com detalhes como `Price`, `District`, `City` e `Town`.\n",
    "- **`rendasm2.json`**: Fornece os valores médios das rendas por metro quadrado em diferentes regiões para o ano de **2023**.\n",
    "- **`densidadePopulacional.json`**: Indica a densidade populacional (Nº habitantes/km²) por concelho para o ano de **2023**.\n",
    "- **`densidadealojamentosm2.json`**: Apresenta a densidade de alojamentos locais (Nº alojamentos/km²), com granularidade ao nível da freguesia, referente ao ano de **2021**.\n",
    "- **`Areas_Freg_Conc_Dist_Pais_CAOP2019.xls`**: Ficheiro do CAOP (Carta Administrativa Oficial de Portugal) que define a estrutura administrativa do país, incluindo distritos, concelhos e freguesias. Utilizado como base de referência para unificar códigos geográficos (`DICO`, `geocod`, etc.).\n",
    "\n",
    "> ⚠️ Cada ficheiro foi lido respeitando a estrutura interna dos formatos `.csv`, `.json` ou `.xls`, e apenas os dados relevantes foram extraídos para posterior limpeza e integração.\n",
    "\n"
   ]
  },
  {
   "cell_type": "code",
   "execution_count": 257,
   "id": "1d476029",
   "metadata": {},
   "outputs": [],
   "source": [
    "import pandas as pd\n",
    "\n",
    "# Leitura dos datasets\n",
    "# O dataset listings contém informações sobre os imóveis disponíveis para venda\n",
    "listings = pd.read_csv(r'dados\\portugal_listings.csv')\n",
    "\n",
    "# O dataset rendas contém informações sobre os preços das rendas por metro quadrado\n",
    "rendas = pd.read_json(r'dados\\rendasm2.json')\n",
    "rendas = pd.DataFrame(rendas['Dados'][0]['2023'])\n",
    "\n",
    "# O dataset densidade_pop contém informações sobre a densidade populacional (Nº/km2) por conselho\n",
    "densidade_pop = pd.read_json(r'dados\\densidadePopulacional.json')\n",
    "densidade_pop = pd.DataFrame(densidade_pop['Dados'][0]['2023'])\n",
    "\n",
    "# O dataset densidade_aloj contém informações sobre a densidade de alojamentos (Nº/km2) por freguesia\n",
    "densidade_aloj = pd.read_json(r'dados\\densidadealojamentosm2.json')\n",
    "densidade_aloj = pd.DataFrame(densidade_aloj['Dados'][0]['2021'])\n",
    "\n",
    "# A tabela municipios contém informações sobre a ordenação territorial portuguesa\n",
    "concelhos = pd.read_excel(r'dados\\Areas_Freg_Conc_Dist_Pais_CAOP2019.xls', sheet_name='Areas_Concelhos_CAOP2019')"
   ]
  },
  {
   "cell_type": "markdown",
   "id": "1666b38e",
   "metadata": {},
   "source": [
    "Após a importação dos dados, o próximo passo será o data profiling e integration, de modo a perceber as estruturas de dados"
   ]
  },
  {
   "cell_type": "markdown",
   "id": "e5442588",
   "metadata": {},
   "source": [
    "---"
   ]
  },
  {
   "cell_type": "markdown",
   "id": "2027d1b6",
   "metadata": {},
   "source": [
    "## 🔍 Data Profiling\n",
    "\n",
    "Após a importação dos dados, foi realizada uma análise exploratória (data profiling) para compreender a estrutura de cada dataset. Esta análise incluiu:\n",
    "\n",
    "- Verificação dos tipos de dados;\n",
    "- Número de valores nulos;\n",
    "- Percentagem de nulos;\n",
    "- Cardinalidade (valores únicos) por coluna.\n",
    "\n",
    "A função usada para este processo foi:\n"
   ]
  },
  {
   "cell_type": "code",
   "execution_count": 258,
   "id": "2de58ccb",
   "metadata": {},
   "outputs": [],
   "source": [
    "def DataProfiling(dataframe: pd.DataFrame):\n",
    "    # Data profiling completo para todas as colunas\n",
    "    data_profiling = pd.DataFrame({\n",
    "        \"Coluna\": dataframe.columns,\n",
    "        \"Tipo de Dado\": dataframe.dtypes.values,\n",
    "        \"Valores Não Nulos\": dataframe.notnull().sum().values,\n",
    "        \"Valores Nulos\": dataframe.isnull().sum().values,\n",
    "        \"% Nulos\": (dataframe.isnull().mean() * 100).round(2).values,\n",
    "        \"Valores Únicos\": dataframe.nunique().values\n",
    "    })\n",
    "    display(data_profiling)  "
   ]
  },
  {
   "cell_type": "markdown",
   "id": "d2f13a2b",
   "metadata": {},
   "source": [
    "### Areas_Freg_Conc_Dist_Pais_CAOP2019.xls\n",
    "\n"
   ]
  },
  {
   "cell_type": "code",
   "execution_count": 259,
   "id": "e49c040a",
   "metadata": {},
   "outputs": [
    {
     "data": {
      "text/html": [
       "<div>\n",
       "<style scoped>\n",
       "    .dataframe tbody tr th:only-of-type {\n",
       "        vertical-align: middle;\n",
       "    }\n",
       "\n",
       "    .dataframe tbody tr th {\n",
       "        vertical-align: top;\n",
       "    }\n",
       "\n",
       "    .dataframe thead th {\n",
       "        text-align: right;\n",
       "    }\n",
       "</style>\n",
       "<table border=\"1\" class=\"dataframe\">\n",
       "  <thead>\n",
       "    <tr style=\"text-align: right;\">\n",
       "      <th></th>\n",
       "      <th>Coluna</th>\n",
       "      <th>Tipo de Dado</th>\n",
       "      <th>Valores Não Nulos</th>\n",
       "      <th>Valores Nulos</th>\n",
       "      <th>% Nulos</th>\n",
       "      <th>Valores Únicos</th>\n",
       "    </tr>\n",
       "  </thead>\n",
       "  <tbody>\n",
       "    <tr>\n",
       "      <th>0</th>\n",
       "      <td>DICO</td>\n",
       "      <td>int64</td>\n",
       "      <td>308</td>\n",
       "      <td>0</td>\n",
       "      <td>0.0</td>\n",
       "      <td>308</td>\n",
       "    </tr>\n",
       "    <tr>\n",
       "      <th>1</th>\n",
       "      <td>NUTSI_DSG</td>\n",
       "      <td>object</td>\n",
       "      <td>308</td>\n",
       "      <td>0</td>\n",
       "      <td>0.0</td>\n",
       "      <td>3</td>\n",
       "    </tr>\n",
       "    <tr>\n",
       "      <th>2</th>\n",
       "      <td>NUTSI_COD</td>\n",
       "      <td>int64</td>\n",
       "      <td>308</td>\n",
       "      <td>0</td>\n",
       "      <td>0.0</td>\n",
       "      <td>3</td>\n",
       "    </tr>\n",
       "    <tr>\n",
       "      <th>3</th>\n",
       "      <td>NUTSII_DSG</td>\n",
       "      <td>object</td>\n",
       "      <td>308</td>\n",
       "      <td>0</td>\n",
       "      <td>0.0</td>\n",
       "      <td>7</td>\n",
       "    </tr>\n",
       "    <tr>\n",
       "      <th>4</th>\n",
       "      <td>NUTSII_COD</td>\n",
       "      <td>int64</td>\n",
       "      <td>308</td>\n",
       "      <td>0</td>\n",
       "      <td>0.0</td>\n",
       "      <td>7</td>\n",
       "    </tr>\n",
       "    <tr>\n",
       "      <th>5</th>\n",
       "      <td>NUTSIII_DSG</td>\n",
       "      <td>object</td>\n",
       "      <td>308</td>\n",
       "      <td>0</td>\n",
       "      <td>0.0</td>\n",
       "      <td>25</td>\n",
       "    </tr>\n",
       "    <tr>\n",
       "      <th>6</th>\n",
       "      <td>NUTSIII_COD</td>\n",
       "      <td>object</td>\n",
       "      <td>308</td>\n",
       "      <td>0</td>\n",
       "      <td>0.0</td>\n",
       "      <td>25</td>\n",
       "    </tr>\n",
       "    <tr>\n",
       "      <th>7</th>\n",
       "      <td>DISTRITO_ILHA_DSG</td>\n",
       "      <td>object</td>\n",
       "      <td>308</td>\n",
       "      <td>0</td>\n",
       "      <td>0.0</td>\n",
       "      <td>29</td>\n",
       "    </tr>\n",
       "    <tr>\n",
       "      <th>8</th>\n",
       "      <td>CONCELHO_DSG</td>\n",
       "      <td>object</td>\n",
       "      <td>308</td>\n",
       "      <td>0</td>\n",
       "      <td>0.0</td>\n",
       "      <td>307</td>\n",
       "    </tr>\n",
       "    <tr>\n",
       "      <th>9</th>\n",
       "      <td>AREA_2019_ha</td>\n",
       "      <td>float64</td>\n",
       "      <td>308</td>\n",
       "      <td>0</td>\n",
       "      <td>0.0</td>\n",
       "      <td>308</td>\n",
       "    </tr>\n",
       "    <tr>\n",
       "      <th>10</th>\n",
       "      <td>AREA_2019_km2</td>\n",
       "      <td>float64</td>\n",
       "      <td>308</td>\n",
       "      <td>0</td>\n",
       "      <td>0.0</td>\n",
       "      <td>308</td>\n",
       "    </tr>\n",
       "    <tr>\n",
       "      <th>11</th>\n",
       "      <td>PERIM_km</td>\n",
       "      <td>int64</td>\n",
       "      <td>308</td>\n",
       "      <td>0</td>\n",
       "      <td>0.0</td>\n",
       "      <td>146</td>\n",
       "    </tr>\n",
       "    <tr>\n",
       "      <th>12</th>\n",
       "      <td>ALTITUDE_MAX_m</td>\n",
       "      <td>int64</td>\n",
       "      <td>308</td>\n",
       "      <td>0</td>\n",
       "      <td>0.0</td>\n",
       "      <td>259</td>\n",
       "    </tr>\n",
       "    <tr>\n",
       "      <th>13</th>\n",
       "      <td>ALTITUDE_MIN_m</td>\n",
       "      <td>int64</td>\n",
       "      <td>308</td>\n",
       "      <td>0</td>\n",
       "      <td>0.0</td>\n",
       "      <td>75</td>\n",
       "    </tr>\n",
       "  </tbody>\n",
       "</table>\n",
       "</div>"
      ],
      "text/plain": [
       "               Coluna Tipo de Dado  Valores Não Nulos  Valores Nulos  % Nulos  \\\n",
       "0                DICO        int64                308              0      0.0   \n",
       "1           NUTSI_DSG       object                308              0      0.0   \n",
       "2           NUTSI_COD        int64                308              0      0.0   \n",
       "3          NUTSII_DSG       object                308              0      0.0   \n",
       "4          NUTSII_COD        int64                308              0      0.0   \n",
       "5         NUTSIII_DSG       object                308              0      0.0   \n",
       "6         NUTSIII_COD       object                308              0      0.0   \n",
       "7   DISTRITO_ILHA_DSG       object                308              0      0.0   \n",
       "8        CONCELHO_DSG       object                308              0      0.0   \n",
       "9        AREA_2019_ha      float64                308              0      0.0   \n",
       "10      AREA_2019_km2      float64                308              0      0.0   \n",
       "11           PERIM_km        int64                308              0      0.0   \n",
       "12     ALTITUDE_MAX_m        int64                308              0      0.0   \n",
       "13     ALTITUDE_MIN_m        int64                308              0      0.0   \n",
       "\n",
       "    Valores Únicos  \n",
       "0              308  \n",
       "1                3  \n",
       "2                3  \n",
       "3                7  \n",
       "4                7  \n",
       "5               25  \n",
       "6               25  \n",
       "7               29  \n",
       "8              307  \n",
       "9              308  \n",
       "10             308  \n",
       "11             146  \n",
       "12             259  \n",
       "13              75  "
      ]
     },
     "metadata": {},
     "output_type": "display_data"
    }
   ],
   "source": [
    "DataProfiling(concelhos)"
   ]
  },
  {
   "cell_type": "markdown",
   "id": "30fdaf09",
   "metadata": {},
   "source": [
    "⚙️ **Seleção de Colunas Relevantes — `Areas_Concelhos_CAOP2019`**\n",
    "\n",
    "Contém 14 colunas, das quais apenas 3 foram consideradas relevantes:\n",
    "\n",
    "- `DICO`: Identificador único do concelho (**manter**).\n",
    "- `CONCELHO_DSG`: Nome oficial do concelho (**manter**).\n",
    "- `NUTSIII_DSG`: Região NUTS III (**manter**).\n",
    "\n",
    "As colunas a eliminar incluem:\n",
    "- `NUTSI_DSG`, `NUTSI_COD`, `NUTSII_DSG`, `NUTSII_COD`, `NUTSIII_COD`: não necessárias à análise.\n",
    "- `DISTRITO_ILHA_DSG`: nível distrital, não será utilizado.\n",
    "- `AREA_2019_ha`, `AREA_2019_km2`, `PERIM_km`, `ALTITUDE_MAX_m`, `ALTITUDE_MIN_m`: não relevantes para o estudo.\n",
    "\n"
   ]
  },
  {
   "cell_type": "markdown",
   "id": "8f60977e",
   "metadata": {},
   "source": [
    "### densidadealojamentosm2.json\n",
    "\n"
   ]
  },
  {
   "cell_type": "code",
   "execution_count": 260,
   "id": "7b30fb61",
   "metadata": {},
   "outputs": [
    {
     "data": {
      "text/html": [
       "<div>\n",
       "<style scoped>\n",
       "    .dataframe tbody tr th:only-of-type {\n",
       "        vertical-align: middle;\n",
       "    }\n",
       "\n",
       "    .dataframe tbody tr th {\n",
       "        vertical-align: top;\n",
       "    }\n",
       "\n",
       "    .dataframe thead th {\n",
       "        text-align: right;\n",
       "    }\n",
       "</style>\n",
       "<table border=\"1\" class=\"dataframe\">\n",
       "  <thead>\n",
       "    <tr style=\"text-align: right;\">\n",
       "      <th></th>\n",
       "      <th>Coluna</th>\n",
       "      <th>Tipo de Dado</th>\n",
       "      <th>Valores Não Nulos</th>\n",
       "      <th>Valores Nulos</th>\n",
       "      <th>% Nulos</th>\n",
       "      <th>Valores Únicos</th>\n",
       "    </tr>\n",
       "  </thead>\n",
       "  <tbody>\n",
       "    <tr>\n",
       "      <th>0</th>\n",
       "      <td>geocod</td>\n",
       "      <td>object</td>\n",
       "      <td>3439</td>\n",
       "      <td>0</td>\n",
       "      <td>0.0</td>\n",
       "      <td>3439</td>\n",
       "    </tr>\n",
       "    <tr>\n",
       "      <th>1</th>\n",
       "      <td>geodsg</td>\n",
       "      <td>object</td>\n",
       "      <td>3439</td>\n",
       "      <td>0</td>\n",
       "      <td>0.0</td>\n",
       "      <td>3075</td>\n",
       "    </tr>\n",
       "    <tr>\n",
       "      <th>2</th>\n",
       "      <td>ind_string</td>\n",
       "      <td>object</td>\n",
       "      <td>3439</td>\n",
       "      <td>0</td>\n",
       "      <td>0.0</td>\n",
       "      <td>1656</td>\n",
       "    </tr>\n",
       "    <tr>\n",
       "      <th>3</th>\n",
       "      <td>valor</td>\n",
       "      <td>object</td>\n",
       "      <td>3439</td>\n",
       "      <td>0</td>\n",
       "      <td>0.0</td>\n",
       "      <td>1656</td>\n",
       "    </tr>\n",
       "  </tbody>\n",
       "</table>\n",
       "</div>"
      ],
      "text/plain": [
       "       Coluna Tipo de Dado  Valores Não Nulos  Valores Nulos  % Nulos  \\\n",
       "0      geocod       object               3439              0      0.0   \n",
       "1      geodsg       object               3439              0      0.0   \n",
       "2  ind_string       object               3439              0      0.0   \n",
       "3       valor       object               3439              0      0.0   \n",
       "\n",
       "   Valores Únicos  \n",
       "0            3439  \n",
       "1            3075  \n",
       "2            1656  \n",
       "3            1656  "
      ]
     },
     "metadata": {},
     "output_type": "display_data"
    }
   ],
   "source": [
    "DataProfiling(densidade_aloj)"
   ]
  },
  {
   "cell_type": "markdown",
   "id": "e0f4d3ac",
   "metadata": {},
   "source": [
    "⚙️ **Seleção de Colunas Relevantes — `densidadealojamentosm2`**\n",
    "\n",
    "Contém 4 colunas, sendo úteis:\n",
    "\n",
    "- `geocod`: Identificador único da freguesia (**manter**).\n",
    "- `geodsg`: Nome oficial da freguesia (**manter**).\n",
    "- `valor`: Valor do indicador (**manter**, a converter para `float`).\n",
    "\n",
    "A coluna `ind_string` é redundante e será **eliminada**."
   ]
  },
  {
   "cell_type": "markdown",
   "id": "3fd19f1e",
   "metadata": {},
   "source": [
    "### DensidadePopulacional.json\n",
    "\n"
   ]
  },
  {
   "cell_type": "code",
   "execution_count": 261,
   "id": "e1fafabb",
   "metadata": {},
   "outputs": [
    {
     "data": {
      "text/html": [
       "<div>\n",
       "<style scoped>\n",
       "    .dataframe tbody tr th:only-of-type {\n",
       "        vertical-align: middle;\n",
       "    }\n",
       "\n",
       "    .dataframe tbody tr th {\n",
       "        vertical-align: top;\n",
       "    }\n",
       "\n",
       "    .dataframe thead th {\n",
       "        text-align: right;\n",
       "    }\n",
       "</style>\n",
       "<table border=\"1\" class=\"dataframe\">\n",
       "  <thead>\n",
       "    <tr style=\"text-align: right;\">\n",
       "      <th></th>\n",
       "      <th>Coluna</th>\n",
       "      <th>Tipo de Dado</th>\n",
       "      <th>Valores Não Nulos</th>\n",
       "      <th>Valores Nulos</th>\n",
       "      <th>% Nulos</th>\n",
       "      <th>Valores Únicos</th>\n",
       "    </tr>\n",
       "  </thead>\n",
       "  <tbody>\n",
       "    <tr>\n",
       "      <th>0</th>\n",
       "      <td>geocod</td>\n",
       "      <td>object</td>\n",
       "      <td>347</td>\n",
       "      <td>0</td>\n",
       "      <td>0.0</td>\n",
       "      <td>347</td>\n",
       "    </tr>\n",
       "    <tr>\n",
       "      <th>1</th>\n",
       "      <td>geodsg</td>\n",
       "      <td>object</td>\n",
       "      <td>347</td>\n",
       "      <td>0</td>\n",
       "      <td>0.0</td>\n",
       "      <td>340</td>\n",
       "    </tr>\n",
       "    <tr>\n",
       "      <th>2</th>\n",
       "      <td>ind_string</td>\n",
       "      <td>object</td>\n",
       "      <td>347</td>\n",
       "      <td>0</td>\n",
       "      <td>0.0</td>\n",
       "      <td>316</td>\n",
       "    </tr>\n",
       "    <tr>\n",
       "      <th>3</th>\n",
       "      <td>valor</td>\n",
       "      <td>object</td>\n",
       "      <td>347</td>\n",
       "      <td>0</td>\n",
       "      <td>0.0</td>\n",
       "      <td>316</td>\n",
       "    </tr>\n",
       "  </tbody>\n",
       "</table>\n",
       "</div>"
      ],
      "text/plain": [
       "       Coluna Tipo de Dado  Valores Não Nulos  Valores Nulos  % Nulos  \\\n",
       "0      geocod       object                347              0      0.0   \n",
       "1      geodsg       object                347              0      0.0   \n",
       "2  ind_string       object                347              0      0.0   \n",
       "3       valor       object                347              0      0.0   \n",
       "\n",
       "   Valores Únicos  \n",
       "0             347  \n",
       "1             340  \n",
       "2             316  \n",
       "3             316  "
      ]
     },
     "metadata": {},
     "output_type": "display_data"
    }
   ],
   "source": [
    "DataProfiling(densidade_pop)"
   ]
  },
  {
   "cell_type": "markdown",
   "id": "3a6bbe62",
   "metadata": {},
   "source": [
    "⚙️ **Seleção de Colunas Relevantes — `DensidadePopulacional`**\n",
    "\n",
    "Com estrutura semelhante ao anterior. Colunas relevantes:\n",
    "\n",
    "- `geocod`: Identificador do concelho (**manter**).\n",
    "- `geodsg`: Nome oficial do concelho (**manter**).\n",
    "- `valor`: Valor do indicador (**manter**, a converter para `float`).\n",
    "\n",
    "`ind_string` será **eliminado**.\n",
    "\n",
    "\n"
   ]
  },
  {
   "cell_type": "markdown",
   "id": "766843d8",
   "metadata": {},
   "source": [
    "### portugal_listings.csv"
   ]
  },
  {
   "cell_type": "code",
   "execution_count": 262,
   "id": "3e0adbfc",
   "metadata": {},
   "outputs": [
    {
     "data": {
      "text/html": [
       "<div>\n",
       "<style scoped>\n",
       "    .dataframe tbody tr th:only-of-type {\n",
       "        vertical-align: middle;\n",
       "    }\n",
       "\n",
       "    .dataframe tbody tr th {\n",
       "        vertical-align: top;\n",
       "    }\n",
       "\n",
       "    .dataframe thead th {\n",
       "        text-align: right;\n",
       "    }\n",
       "</style>\n",
       "<table border=\"1\" class=\"dataframe\">\n",
       "  <thead>\n",
       "    <tr style=\"text-align: right;\">\n",
       "      <th></th>\n",
       "      <th>Coluna</th>\n",
       "      <th>Tipo de Dado</th>\n",
       "      <th>Valores Não Nulos</th>\n",
       "      <th>Valores Nulos</th>\n",
       "      <th>% Nulos</th>\n",
       "      <th>Valores Únicos</th>\n",
       "    </tr>\n",
       "  </thead>\n",
       "  <tbody>\n",
       "    <tr>\n",
       "      <th>0</th>\n",
       "      <td>Price</td>\n",
       "      <td>float64</td>\n",
       "      <td>135236</td>\n",
       "      <td>300</td>\n",
       "      <td>0.22</td>\n",
       "      <td>4754</td>\n",
       "    </tr>\n",
       "    <tr>\n",
       "      <th>1</th>\n",
       "      <td>District</td>\n",
       "      <td>object</td>\n",
       "      <td>135536</td>\n",
       "      <td>0</td>\n",
       "      <td>0.00</td>\n",
       "      <td>27</td>\n",
       "    </tr>\n",
       "    <tr>\n",
       "      <th>2</th>\n",
       "      <td>City</td>\n",
       "      <td>object</td>\n",
       "      <td>135536</td>\n",
       "      <td>0</td>\n",
       "      <td>0.00</td>\n",
       "      <td>275</td>\n",
       "    </tr>\n",
       "    <tr>\n",
       "      <th>3</th>\n",
       "      <td>Town</td>\n",
       "      <td>object</td>\n",
       "      <td>135534</td>\n",
       "      <td>2</td>\n",
       "      <td>0.00</td>\n",
       "      <td>2263</td>\n",
       "    </tr>\n",
       "    <tr>\n",
       "      <th>4</th>\n",
       "      <td>Unnamed: 4</td>\n",
       "      <td>float64</td>\n",
       "      <td>0</td>\n",
       "      <td>135536</td>\n",
       "      <td>100.00</td>\n",
       "      <td>0</td>\n",
       "    </tr>\n",
       "    <tr>\n",
       "      <th>5</th>\n",
       "      <td>Unnamed: 5</td>\n",
       "      <td>float64</td>\n",
       "      <td>0</td>\n",
       "      <td>135536</td>\n",
       "      <td>100.00</td>\n",
       "      <td>0</td>\n",
       "    </tr>\n",
       "    <tr>\n",
       "      <th>6</th>\n",
       "      <td>Unnamed: 6</td>\n",
       "      <td>float64</td>\n",
       "      <td>0</td>\n",
       "      <td>135536</td>\n",
       "      <td>100.00</td>\n",
       "      <td>0</td>\n",
       "    </tr>\n",
       "    <tr>\n",
       "      <th>7</th>\n",
       "      <td>Unnamed: 7</td>\n",
       "      <td>float64</td>\n",
       "      <td>0</td>\n",
       "      <td>135536</td>\n",
       "      <td>100.00</td>\n",
       "      <td>0</td>\n",
       "    </tr>\n",
       "    <tr>\n",
       "      <th>8</th>\n",
       "      <td>Unnamed: 8</td>\n",
       "      <td>float64</td>\n",
       "      <td>0</td>\n",
       "      <td>135536</td>\n",
       "      <td>100.00</td>\n",
       "      <td>0</td>\n",
       "    </tr>\n",
       "    <tr>\n",
       "      <th>9</th>\n",
       "      <td>Unnamed: 9</td>\n",
       "      <td>float64</td>\n",
       "      <td>0</td>\n",
       "      <td>135536</td>\n",
       "      <td>100.00</td>\n",
       "      <td>0</td>\n",
       "    </tr>\n",
       "    <tr>\n",
       "      <th>10</th>\n",
       "      <td>Unnamed: 10</td>\n",
       "      <td>float64</td>\n",
       "      <td>0</td>\n",
       "      <td>135536</td>\n",
       "      <td>100.00</td>\n",
       "      <td>0</td>\n",
       "    </tr>\n",
       "    <tr>\n",
       "      <th>11</th>\n",
       "      <td>Unnamed: 11</td>\n",
       "      <td>float64</td>\n",
       "      <td>0</td>\n",
       "      <td>135536</td>\n",
       "      <td>100.00</td>\n",
       "      <td>0</td>\n",
       "    </tr>\n",
       "    <tr>\n",
       "      <th>12</th>\n",
       "      <td>Unnamed: 12</td>\n",
       "      <td>float64</td>\n",
       "      <td>0</td>\n",
       "      <td>135536</td>\n",
       "      <td>100.00</td>\n",
       "      <td>0</td>\n",
       "    </tr>\n",
       "    <tr>\n",
       "      <th>13</th>\n",
       "      <td>Unnamed: 13</td>\n",
       "      <td>float64</td>\n",
       "      <td>0</td>\n",
       "      <td>135536</td>\n",
       "      <td>100.00</td>\n",
       "      <td>0</td>\n",
       "    </tr>\n",
       "  </tbody>\n",
       "</table>\n",
       "</div>"
      ],
      "text/plain": [
       "         Coluna Tipo de Dado  Valores Não Nulos  Valores Nulos  % Nulos  \\\n",
       "0         Price      float64             135236            300     0.22   \n",
       "1      District       object             135536              0     0.00   \n",
       "2          City       object             135536              0     0.00   \n",
       "3          Town       object             135534              2     0.00   \n",
       "4    Unnamed: 4      float64                  0         135536   100.00   \n",
       "5    Unnamed: 5      float64                  0         135536   100.00   \n",
       "6    Unnamed: 6      float64                  0         135536   100.00   \n",
       "7    Unnamed: 7      float64                  0         135536   100.00   \n",
       "8    Unnamed: 8      float64                  0         135536   100.00   \n",
       "9    Unnamed: 9      float64                  0         135536   100.00   \n",
       "10  Unnamed: 10      float64                  0         135536   100.00   \n",
       "11  Unnamed: 11      float64                  0         135536   100.00   \n",
       "12  Unnamed: 12      float64                  0         135536   100.00   \n",
       "13  Unnamed: 13      float64                  0         135536   100.00   \n",
       "\n",
       "    Valores Únicos  \n",
       "0             4754  \n",
       "1               27  \n",
       "2              275  \n",
       "3             2263  \n",
       "4                0  \n",
       "5                0  \n",
       "6                0  \n",
       "7                0  \n",
       "8                0  \n",
       "9                0  \n",
       "10               0  \n",
       "11               0  \n",
       "12               0  \n",
       "13               0  "
      ]
     },
     "metadata": {},
     "output_type": "display_data"
    }
   ],
   "source": [
    "DataProfiling(listings)"
   ]
  },
  {
   "cell_type": "markdown",
   "id": "e8eac27d",
   "metadata": {},
   "source": [
    "⚙️ **Seleção de Colunas Relevantes — `portugal_listings`**\n",
    "\n",
    "Contém 14 colunas. Apenas 3 foram consideradas essenciais:\n",
    "\n",
    "- `Price`: Preço do imóvel (**manter**).\n",
    "- `District`: Nome do distrito (**manter**).\n",
    "- `City`: Nome da cidade (**manter**).\n",
    "\n",
    "As colunas `Town` e `Unnamed: 4` a `Unnamed: 13` serão **eliminadas** por irrelevância e redundância, respetivamente.\n",
    "\n"
   ]
  },
  {
   "cell_type": "markdown",
   "id": "dc9bf1e7",
   "metadata": {},
   "source": [
    "### rendasm2.json\n"
   ]
  },
  {
   "cell_type": "code",
   "execution_count": 263,
   "id": "8f9a39fd",
   "metadata": {},
   "outputs": [
    {
     "data": {
      "text/html": [
       "<div>\n",
       "<style scoped>\n",
       "    .dataframe tbody tr th:only-of-type {\n",
       "        vertical-align: middle;\n",
       "    }\n",
       "\n",
       "    .dataframe tbody tr th {\n",
       "        vertical-align: top;\n",
       "    }\n",
       "\n",
       "    .dataframe thead th {\n",
       "        text-align: right;\n",
       "    }\n",
       "</style>\n",
       "<table border=\"1\" class=\"dataframe\">\n",
       "  <thead>\n",
       "    <tr style=\"text-align: right;\">\n",
       "      <th></th>\n",
       "      <th>Coluna</th>\n",
       "      <th>Tipo de Dado</th>\n",
       "      <th>Valores Não Nulos</th>\n",
       "      <th>Valores Nulos</th>\n",
       "      <th>% Nulos</th>\n",
       "      <th>Valores Únicos</th>\n",
       "    </tr>\n",
       "  </thead>\n",
       "  <tbody>\n",
       "    <tr>\n",
       "      <th>0</th>\n",
       "      <td>geocod</td>\n",
       "      <td>object</td>\n",
       "      <td>638</td>\n",
       "      <td>0</td>\n",
       "      <td>0.00</td>\n",
       "      <td>638</td>\n",
       "    </tr>\n",
       "    <tr>\n",
       "      <th>1</th>\n",
       "      <td>geodsg</td>\n",
       "      <td>object</td>\n",
       "      <td>638</td>\n",
       "      <td>0</td>\n",
       "      <td>0.00</td>\n",
       "      <td>616</td>\n",
       "    </tr>\n",
       "    <tr>\n",
       "      <th>2</th>\n",
       "      <td>ind_string</td>\n",
       "      <td>object</td>\n",
       "      <td>638</td>\n",
       "      <td>0</td>\n",
       "      <td>0.00</td>\n",
       "      <td>343</td>\n",
       "    </tr>\n",
       "    <tr>\n",
       "      <th>3</th>\n",
       "      <td>valor</td>\n",
       "      <td>object</td>\n",
       "      <td>431</td>\n",
       "      <td>207</td>\n",
       "      <td>32.45</td>\n",
       "      <td>341</td>\n",
       "    </tr>\n",
       "    <tr>\n",
       "      <th>4</th>\n",
       "      <td>sinal_conv</td>\n",
       "      <td>object</td>\n",
       "      <td>207</td>\n",
       "      <td>431</td>\n",
       "      <td>67.55</td>\n",
       "      <td>2</td>\n",
       "    </tr>\n",
       "    <tr>\n",
       "      <th>5</th>\n",
       "      <td>sinal_conv_desc</td>\n",
       "      <td>object</td>\n",
       "      <td>207</td>\n",
       "      <td>431</td>\n",
       "      <td>67.55</td>\n",
       "      <td>2</td>\n",
       "    </tr>\n",
       "  </tbody>\n",
       "</table>\n",
       "</div>"
      ],
      "text/plain": [
       "            Coluna Tipo de Dado  Valores Não Nulos  Valores Nulos  % Nulos  \\\n",
       "0           geocod       object                638              0     0.00   \n",
       "1           geodsg       object                638              0     0.00   \n",
       "2       ind_string       object                638              0     0.00   \n",
       "3            valor       object                431            207    32.45   \n",
       "4       sinal_conv       object                207            431    67.55   \n",
       "5  sinal_conv_desc       object                207            431    67.55   \n",
       "\n",
       "   Valores Únicos  \n",
       "0             638  \n",
       "1             616  \n",
       "2             343  \n",
       "3             341  \n",
       "4               2  \n",
       "5               2  "
      ]
     },
     "metadata": {},
     "output_type": "display_data"
    }
   ],
   "source": [
    "DataProfiling(rendas)"
   ]
  },
  {
   "cell_type": "markdown",
   "id": "d9215c43",
   "metadata": {},
   "source": [
    "⚙️ **Seleção de Colunas Relevantes — `rendasm2`**\n",
    "\n",
    "Contém 6 colunas. As seguintes foram mantidas:\n",
    "\n",
    "- `geocod`: Identificador do concelho (**manter**).\n",
    "- `geodsg`: Nome do concelho (**manter**).\n",
    "- `valor`: Valor médio da renda (**manter**, a converter para `float`).\n",
    "\n",
    "As colunas `ind_string`, `sinal_conv`, `sinal_conv_desc` foram consideradas auxiliares e serão **eliminadas**.\n",
    "\n"
   ]
  },
  {
   "cell_type": "markdown",
   "id": "baf62145",
   "metadata": {},
   "source": [
    "### 📊 Conclusões do Data Profiling\n",
    "\n",
    "Após a leitura e análise dos datasets, foram identificadas as seguintes características e decisões de limpeza e preparação:\n",
    "\n",
    "\n",
    "#### 📌 Colunas-Chave Identificadas\n",
    "\n",
    "| Dataset                     | Chave Primária                              | Chave(s) Secundária(s)         |\n",
    "|----------------------------|---------------------------------------------|--------------------------------|\n",
    "| `Areas_Concelhos_CAOP2019` | `DICO` → renomeado para `MunicipalityCode` | `CONCELHO_DSG`, `NUTSIII_DSG` |\n",
    "| `densidadePopulacional`    | `geocod` (últimos 4 dígitos) → `MunicipalityCode` | `geodsg`             |\n",
    "| `densidadealojamentosm2`   | `geocod` (primeiros 4 dígitos) → `MunicipalityCode` | `geodsg`            |\n",
    "| `rendasm2`                 | `geocod` (últimos 4 dígitos) → `MunicipalityCode` | `geodsg`             |\n",
    "| `portugal_listings`        | `City`                                      | `District`, `Price`             |\n",
    "\n",
    "⚠️ Nota: `geocod` foi mapeado para `MunicipalityCode` com `str[:4]` ou `str[-4:]` conforme o dataset, garantindo uniformidade nas junções.\n",
    "\n",
    "\n",
    "#### 🔍 Conversões e Limpezas Realizadas\n",
    "\n",
    "- As colunas `valor` foram convertidas para `float` com `pd.to_numeric(errors='coerce')`.\n",
    "- Os registos com valores **nulos em `Price`** (no dataset `listings`) foram **removidos**.\n",
    "- Os valores nulos nas colunas `valor` dos datasets **`rendas`** foram **substituídos pela média do distrito**.\n",
    "- Todas as colunas geográficas foram **normalizadas**:\n",
    "  - Remoção de acentos;\n",
    "  - Conversão para minúsculas;\n",
    "  - Remoção de espaços em branco;\n",
    "  - Criação de colunas auxiliares como `*_norm`.\n",
    "\n",
    "\n",
    "#### 🧱 Diferença de Granularidade\n",
    "\n",
    "- Os datasets `densidadealojamentosm2` e `rendasm2` estão ao nível da **freguesia**.\n",
    "- Os restantes datasets estão ao nível do **concelho** (`MunicipalityCode`).\n",
    "\n",
    "🔄 **Solução**:\n",
    "- Realizar um **agrupamento por concelho** (usando os primeiros ou últimos 4 dígitos de `geocod`).\n",
    "- As **médias por concelho** serão calculadas para:\n",
    "  - Densidade de alojamentos locais;\n",
    "  - Preço das rendas por m².\n",
    "- Isso garante coerência na granularidade entre os diferentes conjuntos de dados para posterior integração e análise.\n"
   ]
  },
  {
   "cell_type": "markdown",
   "id": "cc724822",
   "metadata": {},
   "source": [
    "---"
   ]
  },
  {
   "cell_type": "markdown",
   "id": "06e9fe5e",
   "metadata": {},
   "source": [
    "## 🧽 Data Cleaning & Preparation\n",
    "\n",
    "Após a fase de **Data Profiling**, foi possível identificar várias inconsistências nos datasets utilizados neste projeto. Esta fase de **Data Cleaning & Integration** tem como objetivo preparar os dados para a integração e análise final, assegurando que todas as fontes de dados partilham uma estrutura coerente e limpa.\n",
    "\n",
    "\n",
    "### 🔍 Problemas Identificados\n",
    "\n",
    "- Colunas com valores numéricos armazenados como `string`;\n",
    "- Utilização inconsistente de separadores decimais (`\".\"` e `\",\"`);\n",
    "- Existência de **valores nulos** em campos críticos como `Price` e `valor`;\n",
    "- Presença de acentos, letras maiúsculas/minúsculas e espaços inconsistentes em nomes geográficos (`District`, `Town`, `City`, `geodsg`, etc.);\n",
    "- Diferença de granularidade entre datasets (ex: freguesia vs concelho).\n",
    "\n",
    "\n",
    "\n",
    "### 🎯 Objetivos da Limpeza e Preparação\n",
    "\n",
    "1. **Conversão de colunas numéricas** para o tipo `float`, garantindo a coerência dos dados;\n",
    "2. **Tratamento de valores nulos**, através de:\n",
    "   - Remoção em colunas como `Price`;\n",
    "   - Substituição pela **média distrital** no dataset com `valor`, `rendasm2`;\n",
    "3. **Normalização dos nomes de localidades** para garantir a consistência entre datasets:\n",
    "   - Remoção de acentos;\n",
    "   - Conversão para minúsculas;\n",
    "   - Eliminação de espaços em branco;\n",
    "4. **Criação de colunas normalizadas (`*_norm`)**, que servirão como **chaves secundárias** durante a integração dos dados;\n",
    "5. **Harmonização das chaves primárias**, como `MunicipalityCode`, obtidas a partir do `geocod` (início ou fim da string, conforme o dataset);\n",
    "6. **Preparação de DataFrames tratados**, com apenas as colunas essenciais para futura análise.\n",
    "\n",
    "\n",
    "Com estas operações de limpeza, os datasets ficam prontos para a próxima etapa do projeto: **Schema Integration e Identity Resolution**.\n"
   ]
  },
  {
   "cell_type": "code",
   "execution_count": 264,
   "id": "15f425cb",
   "metadata": {},
   "outputs": [
    {
     "name": "stdout",
     "output_type": "stream",
     "text": [
      "Requirement already satisfied: unidecode in c:\\users\\joaom\\appdata\\local\\programs\\python\\python312\\lib\\site-packages (1.3.8)\n"
     ]
    },
    {
     "name": "stderr",
     "output_type": "stream",
     "text": [
      "\n",
      "[notice] A new release of pip is available: 24.3.1 -> 25.0.1\n",
      "[notice] To update, run: python.exe -m pip install --upgrade pip\n"
     ]
    }
   ],
   "source": [
    "!pip install unidecode"
   ]
  },
  {
   "cell_type": "markdown",
   "id": "8d138e3d",
   "metadata": {},
   "source": [
    "Função para normalizar os nomes:"
   ]
  },
  {
   "cell_type": "code",
   "execution_count": 265,
   "id": "56a3387a",
   "metadata": {},
   "outputs": [],
   "source": [
    "import unidecode\n",
    "\n",
    "# Normalizar nomes\n",
    "def normalizar(texto):\n",
    "    return unidecode.unidecode(str(texto).strip().lower())"
   ]
  },
  {
   "cell_type": "markdown",
   "id": "9abe1502",
   "metadata": {},
   "source": [
    "#### Areas_Freg_Conc_Dist_Pais_CAOP2019"
   ]
  },
  {
   "cell_type": "markdown",
   "id": "d0adf224",
   "metadata": {},
   "source": [
    "Este ficheiro do CAOP fornece a divisão administrativa oficial de Portugal, com hierarquias de freguesia, concelho e distrito. A folha Areas_Concelhos_CAOP2019 foi selecionada como base de referência para garantir consistência geográfica durante a integração dos dados.\n",
    "- Inclui diversas colunas administrativas, nem todas relevantes para a análise;\n",
    "- Os nomes dos concelhos e regiões precisam de ser normalizados;\n",
    "- É necessário renomear colunas para maior clareza e coerência com os restantes datasets.\n",
    "\n",
    "✅ Objetivos da Limpeza:\n",
    "- Selecionar apenas colunas relevantes: `DICO`, `CONCELHO_DSG`, `NUTSIII_DSG`;\n",
    "- Renomear colunas para `MunicipalityCode`, `Municipality`, `Region`;\n",
    "- Normalizar nomes (`Municipality`, `Region`);\n",
    "- Exportar dataset tratado como referência para junções (concelhosTratado.csv)."
   ]
  },
  {
   "cell_type": "markdown",
   "id": "3c0de646",
   "metadata": {},
   "source": [
    " 1. Selecionar Colunas Relevantes"
   ]
  },
  {
   "cell_type": "code",
   "execution_count": 266,
   "id": "8e831061",
   "metadata": {},
   "outputs": [],
   "source": [
    "dfConcelhos = pd.DataFrame(concelhos)\n",
    "\n",
    "colunasParaManter = ['DICO', 'CONCELHO_DSG', 'NUTSIII_DSG']\n",
    "dfConcelhos = dfConcelhos[colunasParaManter]"
   ]
  },
  {
   "cell_type": "markdown",
   "id": "c4e3bf87",
   "metadata": {},
   "source": [
    "2. Renomear Colunas com Nomes Descritivos"
   ]
  },
  {
   "cell_type": "code",
   "execution_count": 267,
   "id": "3439d656",
   "metadata": {},
   "outputs": [],
   "source": [
    "dfConcelhos = dfConcelhos.rename(columns={\n",
    "    'DICO': 'MunicipalityCode',\n",
    "    'CONCELHO_DSG': 'Municipality',\n",
    "    'NUTSIII_DSG': 'Region'\n",
    "})"
   ]
  },
  {
   "cell_type": "markdown",
   "id": "f6926168",
   "metadata": {},
   "source": [
    " 3. Normalizar Colunas de Texto"
   ]
  },
  {
   "cell_type": "code",
   "execution_count": 268,
   "id": "338343a1",
   "metadata": {},
   "outputs": [],
   "source": [
    "dfConcelhos['MunicipalityCode'] = dfConcelhos['MunicipalityCode'].astype(str).str.zfill(4)\n",
    "dfConcelhos['Municipality_norm'] = dfConcelhos['Municipality'].apply(normalizar)\n",
    "dfConcelhos['Region_norm'] = dfConcelhos['Region'].apply(normalizar)"
   ]
  },
  {
   "cell_type": "markdown",
   "id": "82226f3a",
   "metadata": {},
   "source": [
    "> As colunas `Municipality_norm` e `Region_norm` serão usadas como auxilary keys nos joins entre datasets."
   ]
  },
  {
   "cell_type": "markdown",
   "id": "99d61800",
   "metadata": {},
   "source": [
    "4. Exportar Tabela Tratada"
   ]
  },
  {
   "cell_type": "code",
   "execution_count": 269,
   "id": "482b072e",
   "metadata": {},
   "outputs": [],
   "source": [
    "dfConcelhosTratado = dfConcelhos[[\n",
    "    'MunicipalityCode', 'Municipality', 'Municipality_norm',\n",
    "    'Region', 'Region_norm'\n",
    "]].drop_duplicates().copy()\n",
    "\n",
    "dfConcelhosTratado.to_csv(r'dados\\dados tradados/concelhosTratado.csv', index=False)"
   ]
  },
  {
   "cell_type": "markdown",
   "id": "6f3b2d69",
   "metadata": {},
   "source": [
    "> A tabela `concelhosTratado.csv` será usada como base de referência para integrar os dados das rendas, densidade populacional, alojamentos e listings."
   ]
  },
  {
   "cell_type": "markdown",
   "id": "dd63b059",
   "metadata": {},
   "source": [
    "#### densidadealojamentosm2"
   ]
  },
  {
   "cell_type": "markdown",
   "id": "bfdc5136",
   "metadata": {},
   "source": [
    "Este dataset indica a densidade de alojamentos locais por km² ao nível da freguesia. Por estar numa granularidade inferior, é necessário ajustá-lo para concelho, a fim de permitir comparações consistentes com os restantes dados.\n",
    "- Os dados estão organizados por geocod, que representa freguesias;\n",
    "- Existem valores nulos em algumas entradas da densidade;\n",
    "- Os nomes (`geodsg`) requerem normalização para integração.\n",
    "\n",
    "✅ Objetivos da Limpeza:\n",
    "- Extrair o código do concelho (`MunicipalityCode`) a partir do `geocod`;\n",
    "- Normalizar os nomes das freguesias (`geodsg`);\n",
    "- Substituir valores nulos pela média do concelho;\n",
    "- Agregar a densidade média por concelho;\n",
    "- Adicionar colunas normalizadas para integração."
   ]
  },
  {
   "cell_type": "markdown",
   "id": "0e1c3c70",
   "metadata": {},
   "source": [
    "1. Carregar Dados e Extrair Código do Concelho"
   ]
  },
  {
   "cell_type": "code",
   "execution_count": 270,
   "id": "cdd03bd3",
   "metadata": {},
   "outputs": [],
   "source": [
    "dfAloj = pd.DataFrame(densidade_aloj)\n",
    "\n",
    "# 🧾 Extrair código do concelho (4 primeiros dígitos do geocod)\n",
    "dfAloj['MunicipalityCode'] = dfAloj['geocod'].str[:4]"
   ]
  },
  {
   "cell_type": "markdown",
   "id": "a5b3fff8",
   "metadata": {},
   "source": [
    "2. Juntar com Concelhos (para nomes normalizados)"
   ]
  },
  {
   "cell_type": "code",
   "execution_count": 271,
   "id": "614e9cca",
   "metadata": {},
   "outputs": [],
   "source": [
    "# 🔁 Juntar com concelhos para obter nomes e norm\n",
    "dfAlojMerged = dfAloj.merge(\n",
    "    dfConcelhos[['MunicipalityCode', 'Municipality', 'Municipality_norm']],\n",
    "    on='MunicipalityCode', how='left'\n",
    ")"
   ]
  },
  {
   "cell_type": "markdown",
   "id": "49994f6b",
   "metadata": {},
   "source": [
    "3. Filtrar Matches Válidos"
   ]
  },
  {
   "cell_type": "code",
   "execution_count": 272,
   "id": "8ad7f358",
   "metadata": {},
   "outputs": [],
   "source": [
    "# Filtrar apenas matches válidos\n",
    "alojamentosMatch = dfAlojMerged[dfAlojMerged['Municipality'].notna()].copy()"
   ]
  },
  {
   "cell_type": "markdown",
   "id": "b900b396",
   "metadata": {},
   "source": [
    " 4. Converter Densidade para float e Substituir Nulos"
   ]
  },
  {
   "cell_type": "code",
   "execution_count": 273,
   "id": "61c163b2",
   "metadata": {},
   "outputs": [],
   "source": [
    "# Converter densidade para float\n",
    "alojamentosMatch['Density'] = pd.to_numeric(alojamentosMatch['valor'], errors='coerce')\n",
    "\n",
    "# Substituir valores nulos pela média do concelho\n",
    "alojamentosMatch['Density'] = alojamentosMatch.groupby('MunicipalityCode')['Density'].transform(\n",
    "    lambda x: x.fillna(x.mean())\n",
    ")"
   ]
  },
  {
   "cell_type": "markdown",
   "id": "bded6ad8",
   "metadata": {},
   "source": [
    "5. Agregar Freguesias por Concelho (tratar da granularidade)"
   ]
  },
  {
   "cell_type": "code",
   "execution_count": 274,
   "id": "e8190eb4",
   "metadata": {},
   "outputs": [],
   "source": [
    "densidadeAlojMedia = (\n",
    "    alojamentosMatch\n",
    "    .groupby(['MunicipalityCode', 'Municipality', 'Municipality_norm'])\n",
    "    .agg({'Density': 'mean'})\n",
    "    .reset_index()\n",
    "    .rename(columns={'Density': 'DensityAlojMean'})\n",
    ")"
   ]
  },
  {
   "cell_type": "markdown",
   "id": "258528de",
   "metadata": {},
   "source": [
    "6. Exportar Dataset Tradato"
   ]
  },
  {
   "cell_type": "code",
   "execution_count": 275,
   "id": "10ebf633",
   "metadata": {},
   "outputs": [],
   "source": [
    "densidadeAlojMedia.to_csv(r'dados\\dados tradados/densidadeAlojTratado.csv', index=False)"
   ]
  },
  {
   "cell_type": "markdown",
   "id": "0d0c23f4",
   "metadata": {},
   "source": [
    "> A tabela final `densidadeAlojTratado.csv` contém a média da densidade de alojamentos por concelho, pronta para integração com os restantes datasets."
   ]
  },
  {
   "cell_type": "markdown",
   "id": "9643f24f",
   "metadata": {},
   "source": [
    "#### DensidadePopulacional"
   ]
  },
  {
   "cell_type": "markdown",
   "id": "53ee45b8",
   "metadata": {},
   "source": [
    "Este dataset apresenta a densidade populacional (número de habitantes por km²) por concelho, com dados já estruturados ao nível municipal, o que facilita a sua integração com os restantes datasets.\n",
    "- Já inclui o código do concelho (`geocod`);\n",
    "\n",
    "- Os nomes das regiões (`geodsg`) necessitam de normalização;\n",
    "\n",
    "- A coluna valor deve ser convertida para numérica.\n",
    "\n",
    "✅ Objetivos da Limpeza:\n",
    "\n",
    "- Extrair `MunicipalityCode` a partir do `geocod`;\n",
    "\n",
    "- Normalizar o nome da unidade geográfica (`geodsg`);\n",
    "\n",
    "- Converter a densidade (`valor`) para float;\n",
    "\n",
    "- Gerar colunas auxiliares (`Municipality`, `Municipality_norm`);\n",
    "\n",
    "- Preparar o dataset final sem necessidade de agregação."
   ]
  },
  {
   "cell_type": "markdown",
   "id": "c494d23c",
   "metadata": {},
   "source": [
    "1. Extrair código do concelho (últimos 4 dígitos do geocod)"
   ]
  },
  {
   "cell_type": "code",
   "execution_count": 276,
   "id": "0f837175",
   "metadata": {},
   "outputs": [],
   "source": [
    "dfPop = pd.DataFrame(densidade_pop)\n",
    "\n",
    "# 🧾 Extrair código do concelho (últimos 4 dígitos do geocod)\n",
    "dfPop['MunicipalityCode'] = dfPop['geocod'].str[-4:]"
   ]
  },
  {
   "cell_type": "markdown",
   "id": "a574e7fb",
   "metadata": {},
   "source": [
    "2. Normalizar nome da unidade geográfica (`geodsg` → `Municipality_norm`)"
   ]
  },
  {
   "cell_type": "code",
   "execution_count": 277,
   "id": "08e8e729",
   "metadata": {},
   "outputs": [],
   "source": [
    "dfPop['Municipality_norm'] = dfPop['geodsg'].apply(normalizar)\n",
    "dfPop.rename(columns={'geodsg': 'Municipality'}, inplace=True)"
   ]
  },
  {
   "cell_type": "markdown",
   "id": "20e9b4f9",
   "metadata": {},
   "source": [
    "3. Converter `valor` para float → coluna `Density`"
   ]
  },
  {
   "cell_type": "code",
   "execution_count": 278,
   "id": "0d0e8873",
   "metadata": {},
   "outputs": [],
   "source": [
    "dfPop['Density'] = pd.to_numeric(dfPop['valor'], errors='coerce')"
   ]
  },
  {
   "cell_type": "markdown",
   "id": "bb88268d",
   "metadata": {},
   "source": [
    "4. Exportar CSV final tratado"
   ]
  },
  {
   "cell_type": "code",
   "execution_count": 279,
   "id": "2c10e1ee",
   "metadata": {},
   "outputs": [],
   "source": [
    "dfPopTratado = dfPop[['geocod', 'Municipality', 'Municipality_norm', 'Density']]\n",
    "\n",
    "# 💾 Exportar CSV final\n",
    "dfPopTratado.to_csv(r'dados\\dados tradados/densidadePopTratado.csv', index=False)\n"
   ]
  },
  {
   "cell_type": "markdown",
   "id": "e6028d4c",
   "metadata": {},
   "source": [
    "#### portugal_listings"
   ]
  },
  {
   "cell_type": "markdown",
   "id": "2ca3ac22",
   "metadata": {},
   "source": [
    "Este dataset contém informações sobre os imóveis anunciados para aluguer em território nacional. Apesar de ser o dataset mais importante para o estudo do impacto do alojamento local, apresenta estrutura inconsistente com os restantes datasets, nomeadamente:\n",
    "- Falta de código administrativo (geocod);\n",
    "- Nomes de localidades em diferentes formatos (`District`, `City`, `Town`);\n",
    "- Registos com preços inválidos (nulos ou 0).\n",
    "\n",
    "✅ Objetivos da Limpeza:\n",
    "- Remover colunas irrelevantes (`Unnamed`, `Town`);\n",
    "- Converter Price para float, tratando entradas inválidas;\n",
    "- Eliminar registos com preços ausentes ou inferiores a 1€;\n",
    "- Normalizar os nomes das localidades (`District` e `City`);\n",
    "- Substituir `City` por `Municipality`, para manter coerência com os restantes datasets;\n",
    "- Gerar colunas auxiliares `*_norm` para usar como chaves durante o blocking e resolução de identidade.\n",
    "> 🧠 Nesta fase, ainda não é possível adicionar `MunicipalityCode` ou `geocod`, visto que o dataset listings carece desta informação. A resolução de identidade com `dfConcelhosTratado` será feita na fase seguinte, através de blocking e similaridade textual."
   ]
  },
  {
   "cell_type": "markdown",
   "id": "88925f3e",
   "metadata": {},
   "source": [
    "1. Remover colunas irrelevantes"
   ]
  },
  {
   "cell_type": "code",
   "execution_count": 280,
   "id": "8557ea2d",
   "metadata": {},
   "outputs": [],
   "source": [
    "dfListings = pd.DataFrame(listings)\n",
    "\n",
    "# 🧹 Remover colunas 'Unnamed' e 'Town' (não será usada)\n",
    "dfListings = dfListings.drop(columns=[col for col in dfListings.columns if \"Unnamed\" in col])\n",
    "dfListings = dfListings.drop(columns=['Town'], errors='ignore')"
   ]
  },
  {
   "cell_type": "markdown",
   "id": "8c590100",
   "metadata": {},
   "source": [
    "2. Converter `Price` para float e remover linhas com `Price` nulo ou menor que 0"
   ]
  },
  {
   "cell_type": "code",
   "execution_count": 281,
   "id": "3814f55a",
   "metadata": {},
   "outputs": [],
   "source": [
    "# Converter 'Price' para float\n",
    "dfListings['Price'] = pd.to_numeric(dfListings['Price'], errors='coerce')\n",
    "\n",
    "# Filtrar linhas com preço válido (> 0)\n",
    "dfListings = dfListings[dfListings['Price'].notna() & (dfListings['Price'] > 0)].copy()\n"
   ]
  },
  {
   "cell_type": "markdown",
   "id": "c83afbd0",
   "metadata": {},
   "source": [
    "3. Normalizar as colunas de texto e rename à coluna `City` para `Municipality`"
   ]
  },
  {
   "cell_type": "code",
   "execution_count": 282,
   "id": "b2f54320",
   "metadata": {},
   "outputs": [],
   "source": [
    "\n",
    "dfListings['District_norm'] = dfListings['District'].apply(normalizar)\n",
    "dfListings['Municipality'] = dfListings['City']  # Substitui City por Municipality\n",
    "dfListings['Municipality_norm'] = dfListings['Municipality'].apply(normalizar)\n",
    "dfListings = dfListings.drop(columns=['City'])"
   ]
  },
  {
   "cell_type": "markdown",
   "id": "fcc10414",
   "metadata": {},
   "source": [
    "4. Exportar dados para tabela tradata"
   ]
  },
  {
   "cell_type": "code",
   "execution_count": 283,
   "id": "6c36bddd",
   "metadata": {},
   "outputs": [],
   "source": [
    "# 💾 Exportar CSV final tratado\n",
    "dfListings.to_csv(r'dados\\dados tradados/listingsTratado.csv', index=False)"
   ]
  },
  {
   "cell_type": "markdown",
   "id": "0dea2996",
   "metadata": {},
   "source": [
    "#### rendasm2"
   ]
  },
  {
   "cell_type": "markdown",
   "id": "812f1a65",
   "metadata": {},
   "source": [
    "Este dataset disponibiliza os valores médios das rendas por m<sup>2</sup> em Portugal, com granularidade ao nível da freguesia. É uma fonte crucial para entender os padrões de custo de habitação e a sua variação regional. No entanto, apresenta algumas limitações estruturais:\n",
    "- Está ao nível da freguesia, sendo necessário agregá-lo ao nível do concelho;\n",
    "- Algumas entradas têm valores nulos na coluna valor;\n",
    "- Os nomes das regiões (coluna `geodsg`) podem apresentar variações e inconsistências linguísticas.\n",
    "\n",
    "✅ Objetivos da Limpeza:\n",
    "- Converter a coluna valor para o tipo float;\n",
    "- Extrair o código do concelho (`MunicipalityCode`) a partir do geocod;\n",
    "- Normalizar os nomes geográficos (`geodsg`);\n",
    "- Substituir valores nulos pela média do concelho;\n",
    "- Agregar os valores médios de renda ao nível municipal;\n",
    "- Incluir colunas `Municipality` e `Municipality_norm` para integração."
   ]
  },
  {
   "cell_type": "markdown",
   "id": "8eb2ec70",
   "metadata": {},
   "source": [
    "1. Converter `valor` para float"
   ]
  },
  {
   "cell_type": "code",
   "execution_count": 284,
   "id": "c4a84433",
   "metadata": {},
   "outputs": [],
   "source": [
    "dfRendas = pd.DataFrame(rendas)\n",
    "\n",
    "# Converter 'valor' para float\n",
    "dfRendas['RentValue'] = pd.to_numeric(dfRendas['valor'], errors='coerce')"
   ]
  },
  {
   "cell_type": "markdown",
   "id": "1abd5e20",
   "metadata": {},
   "source": [
    "2. Extrair código do concelho e normalizar nome"
   ]
  },
  {
   "cell_type": "code",
   "execution_count": 285,
   "id": "0e353cfc",
   "metadata": {},
   "outputs": [],
   "source": [
    "\n",
    "dfRendas['MunicipalityCode'] = dfRendas['geocod'].str[-4:]\n",
    "\n",
    "# Normalizar nome do município\n",
    "dfRendas['MunicipalityNorm'] = dfRendas['geodsg'].apply(normalizar)"
   ]
  },
  {
   "cell_type": "markdown",
   "id": "b4472b36",
   "metadata": {},
   "source": [
    "3. Juntar com concelhos para validar correspondências"
   ]
  },
  {
   "cell_type": "code",
   "execution_count": 286,
   "id": "8ac97d98",
   "metadata": {},
   "outputs": [],
   "source": [
    "# Juntar com concelhos apenas para validar matches\n",
    "rendasMerged = dfRendas.merge(\n",
    "    dfConcelhos[['MunicipalityCode', 'Municipality', 'Municipality_norm']],\n",
    "    on='MunicipalityCode', how='left'\n",
    ")"
   ]
  },
  {
   "cell_type": "markdown",
   "id": "7e0576f9",
   "metadata": {},
   "source": [
    "4. Filtrar apenas correspondências válidas"
   ]
  },
  {
   "cell_type": "code",
   "execution_count": 287,
   "id": "0a10625c",
   "metadata": {},
   "outputs": [],
   "source": [
    "# filtrar apenas matches válidos\n",
    "rendasMatch = rendasMerged[rendasMerged['Municipality'].notna()].copy()"
   ]
  },
  {
   "cell_type": "markdown",
   "id": "9e4b4242",
   "metadata": {},
   "source": [
    "5. Substituir valores nulos pela média do concelho"
   ]
  },
  {
   "cell_type": "code",
   "execution_count": 288,
   "id": "774c3ea6",
   "metadata": {},
   "outputs": [],
   "source": [
    "# Substituir valores nulos pela média por concelho\n",
    "rendasMatch['RentValue'] = rendasMatch.groupby('MunicipalityCode')['RentValue'].transform(\n",
    "    lambda x: x.fillna(x.mean())\n",
    ")"
   ]
  },
  {
   "cell_type": "markdown",
   "id": "521db169",
   "metadata": {},
   "source": [
    "6. Agregar valor médio por concelho"
   ]
  },
  {
   "cell_type": "code",
   "execution_count": 289,
   "id": "6b3fa020",
   "metadata": {},
   "outputs": [],
   "source": [
    "# Agregar média por concelho\n",
    "rendasPorConcelho = (\n",
    "    rendasMatch\n",
    "    .groupby('MunicipalityCode')\n",
    "    .agg({'RentValue': 'mean'})\n",
    "    .reset_index()\n",
    "    .rename(columns={'RentValue': 'RentValueMean'})\n",
    ")"
   ]
  },
  {
   "cell_type": "markdown",
   "id": "9ea8b311",
   "metadata": {},
   "source": [
    "7. Adicionar nomes normalizados ao resultado final"
   ]
  },
  {
   "cell_type": "code",
   "execution_count": 290,
   "id": "6b622fd5",
   "metadata": {},
   "outputs": [],
   "source": [
    "# Adicionar Municipality e MunicipalityNorm\n",
    "rendasPorConcelho = rendasPorConcelho.merge(\n",
    "    dfConcelhos[['MunicipalityCode', 'Municipality', 'Municipality_norm']],\n",
    "    on='MunicipalityCode', how='left'\n",
    ")"
   ]
  },
  {
   "cell_type": "markdown",
   "id": "1f24c8ae",
   "metadata": {},
   "source": [
    "8. Exportar CSV final tratado"
   ]
  },
  {
   "cell_type": "code",
   "execution_count": 291,
   "id": "22765fad",
   "metadata": {},
   "outputs": [],
   "source": [
    "dfRendas = pd.DataFrame(rendasPorConcelho)\n",
    "\n",
    "# Exportar CSV final\n",
    "dfRendas.to_csv(r'dados\\dados tradados/rendasTratado.csv', index=False)"
   ]
  },
  {
   "cell_type": "markdown",
   "id": "7372e328",
   "metadata": {},
   "source": [
    "---"
   ]
  },
  {
   "cell_type": "markdown",
   "id": "af5157eb",
   "metadata": {},
   "source": [
    "## 🔗 Plano de Integração de Esquemas\n",
    "\n",
    "Após o processo de limpeza e normalização dos dados, foi definido o seguinte plano para integrar os diversos datasets, tendo em conta as diferenças de granularidade e estrutura dos mesmos.\n",
    "\n",
    "### 🧩 Objetivo da Integração\n",
    "\n",
    "Integrar os datasets a um **nível municipal (MunicipalityCode)** para permitir a análise cruzada entre:\n",
    "- Preços das rendas por m² (`rendasm2`)\n",
    "- Densidade populacional (`densidadePopulacional`)\n",
    "- Densidade de alojamentos locais (`densidadeAlojamentosm2`)\n",
    "- Preços dos imóveis (`portugal_listings`)\n",
    "- Localização administrativa (`Areas_Concelhos_CAOP2019`)\n",
    "\n",
    "\n",
    "### 🗂️ Granularidade dos Dados\n",
    "\n",
    "| Dataset                | Granularidade Original | Estratégia de Uniformização       |\n",
    "|------------------------|------------------------|-----------------------------------|\n",
    "| `densidadeAlojamentos` | Freguesia              | Agrupar por concelho com a média  |\n",
    "| `rendasm2`             | Freguesia              | Agrupar por concelho com a média  |\n",
    "| `densidadePopulacional`| Concelho               | Já está no nível correto          |\n",
    "| `portugal_listings`    | Freguesia              | Usar a coluna concelho            |\n",
    "| `Areas_Concelhos_CAOP2019` | Concelho           | Base de referência administrativa |\n",
    "\n",
    "\n",
    "### 🧱 Chaves\n",
    "\n",
    "- A **chave de integração principal** será `MunicipalityCode`, extraída de `geocod`, `DICO`, ou derivada de `City`.\n",
    "- Para garantir consistência, foi criada a coluna `Municipality_norm` (nomes normalizados de concelhos).\n",
    "- Os nomes de cidades (`City`) serão normalizados e mapeados para os concelhos correspondentes manualmente ou via regra de decisão (ex: correspondência direta com `Municipality_norm`).\n",
    "\n",
    "\n",
    "### 📋 Estratégia de Integração\n",
    "\n",
    "1. **Densidade de Alojamentos**:  \n",
    "   - Agregar por `MunicipalityCode` (média dos valores da freguesia).\n",
    "   - Gerar dataset final com: `MunicipalityCode`, `DensityAlojMean` e `Municipality_norm`.\n",
    "\n",
    "2. **Densidade Populacional**:  \n",
    "   - Já vem por `MunicipalityCode`, apenas normalizar e confirmar correspondência.\n",
    "\n",
    "3. **Rendas por m²**:  \n",
    "   - Agregar por `MunicipalityCode` (média dos valores da freguesia).\n",
    "   - Gerar dataset com: `MunicipalityCode`, `RentValueMean` e `Municipality_norm`.\n",
    "\n",
    "4. **Listings**:  \n",
    "   - Associar `Municipality_norm` a `Municipality_norm` da tabela `concelhosTratado.csv` e obter `MunicipalityCode`.\n",
    "   - Calcular estatísticas agregadas (média de preço, contagem) por concelho.\n",
    "\n",
    "\n",
    "### 🧠 Considerações Finais\n",
    "\n",
    "- O dataset `concelhosTratado.csv` será a **tabela base** para todas as junções.\n",
    "- As colunas `MunicipalityCode` e `Municipality_norm` serão usadas como **blocking keys**.\n",
    "- Pode ser necessário fazer **resolução de identidade** entre nomes de cidades (`City`) e concelhos (`Municipality`) para garantir boas ligações entre listings e os restantes datasets."
   ]
  },
  {
   "cell_type": "markdown",
   "id": "9ad59dbc",
   "metadata": {},
   "source": [
    "---"
   ]
  },
  {
   "cell_type": "markdown",
   "id": "b82eeeaf",
   "metadata": {},
   "source": [
    "## 🧱 Blocking Strategy & Similarity Metrics\n",
    "\n",
    "Durante a resolução de identidade e planeamento da integração, é essencial preparar mecanismos que reduzam o custo computacional das comparações entre registos (blocking) e definam critérios objetivos para medir semelhança (similarity metrics).\n",
    "\n",
    "### 📦 Blocking Strategy\n",
    "\n",
    "**Objetivo:** Reduzir o número de comparações entre entidades de diferentes datasets, criando \"blocos\" onde a comparação faz sentido (ex: localidades com o mesmo prefixo ou região).\n",
    "\n",
    "#### Estratégia adotada:\n",
    "- Criar blocos com base no prefixo do nome normalizado (`Municipality_norm`).\n",
    "- Apenas comparamos nomes dentro do mesmo bloco.\n",
    "\n",
    "### 📏 Similarity Metrics\n",
    "\n",
    "Após o processo de blocking, é necessário aplicar métricas de similaridade para avaliar o quão próximos são dois nomes normalizados (`Municipality_norm`) de diferentes datasets. Para isso, foram utilizadas três métricas distintas da biblioteca `RapidFuzz`, que abordam a comparação textual sob diferentes perspetivas.\n",
    "\n",
    "#### ✅ Métricas Utilizadas\n",
    "\n",
    "| Métrica                   | Descrição                                                                 | Vantagens                                                                 |\n",
    "|---------------------------|---------------------------------------------------------------------------|---------------------------------------------------------------------------|\n",
    "| `token_sort_ratio`        | Ordena alfabeticamente as palavras antes da comparação                   | Lida bem com nomes invertidos, como `\"porto vila\"` vs `\"vila porto\"`      |\n",
    "| `ratio` (Levenshtein)     | Mede a distância de edição entre duas strings                            | Capta pequenas variações e erros de digitação                             |\n",
    "| `token_set_ratio`         | Compara os conjuntos únicos de palavras, ignorando repetições e ordem    | Útil quando um nome é subconjunto do outro: `\"santa maria da feira\"` vs `\"feira\"` |\n",
    "\n",
    "Estas métricas são complementares e foram escolhidas por permitirem capturar:\n",
    "- Similaridade estrutural (`token_sort_ratio`);\n",
    "- Variações simples de escrita (`ratio`);\n",
    "- Inclusões e subconjuntos de palavras (`token_set_ratio`).\n",
    "\n",
    "> 📌 A utilização combinada destas métricas aumenta a robustez da correspondência entre nomes, facilitando a resolução de identidade."
   ]
  },
  {
   "cell_type": "code",
   "execution_count": 292,
   "id": "8c7300d8",
   "metadata": {},
   "outputs": [
    {
     "name": "stdout",
     "output_type": "stream",
     "text": [
      "Requirement already satisfied: rapidfuzz in c:\\users\\joaom\\appdata\\local\\programs\\python\\python312\\lib\\site-packages (3.13.0)\n"
     ]
    },
    {
     "name": "stderr",
     "output_type": "stream",
     "text": [
      "\n",
      "[notice] A new release of pip is available: 24.3.1 -> 25.0.1\n",
      "[notice] To update, run: python.exe -m pip install --upgrade pip\n"
     ]
    }
   ],
   "source": [
    "!pip install rapidfuzz"
   ]
  },
  {
   "cell_type": "markdown",
   "id": "8904fa8c",
   "metadata": {},
   "source": [
    "#### 1. ✏️ Comparação 1: `listings` vs `rendas`"
   ]
  },
  {
   "cell_type": "markdown",
   "id": "a7b0c8b0",
   "metadata": {},
   "source": [
    "1.1 Carregar os datasets tratados"
   ]
  },
  {
   "cell_type": "code",
   "execution_count": 293,
   "id": "db96e996",
   "metadata": {},
   "outputs": [],
   "source": [
    "import pandas as pd\n",
    "from rapidfuzz import fuzz\n",
    "\n",
    "dfListings = pd.read_csv('dados/dados tradados/listingsTratado.csv')\n",
    "dfRendas = pd.read_csv('dados/dados tradados/rendasTratado.csv')"
   ]
  },
  {
   "cell_type": "markdown",
   "id": "161614e1",
   "metadata": {},
   "source": [
    "> 🧾 Objetivo: Importar os dois datasets que serão comparados — os listings e os valores de renda (rendas). Estes já foram limpos e normalizados anteriormente, incluindo a criação da coluna `Municipality_norm`."
   ]
  },
  {
   "cell_type": "markdown",
   "id": "70fba53b",
   "metadata": {},
   "source": [
    "1.2 Criar chave de blocking"
   ]
  },
  {
   "cell_type": "code",
   "execution_count": 294,
   "id": "8510cd54",
   "metadata": {},
   "outputs": [],
   "source": [
    "dfListings['block_key'] = dfListings['Municipality_norm'].str[:4]\n",
    "dfRendas['block_key'] = dfRendas['Municipality_norm'].str[:4]"
   ]
  },
  {
   "cell_type": "markdown",
   "id": "8935d7c1",
   "metadata": {},
   "source": [
    "> 🔍 Objetivo: Reduzir o número de comparações utilizando uma chave de blocking.\n",
    ">- A chave `block_key` é formada pelos primeiros 4 caracteres da string normalizada (`Municipality_norm`).\n",
    ">- Assim, apenas localidades com prefixos semelhantes serão comparadas, o que melhora a performance e reduz falsos positivos."
   ]
  },
  {
   "cell_type": "markdown",
   "id": "3d1c9b64",
   "metadata": {},
   "source": [
    "1.3 Gerar pares candidatos com base no bloco"
   ]
  },
  {
   "cell_type": "code",
   "execution_count": 295,
   "id": "6fbc237b",
   "metadata": {},
   "outputs": [],
   "source": [
    "candidatos = pd.merge(\n",
    "    dfListings[['Municipality', 'Municipality_norm', 'block_key']],\n",
    "    dfRendas[['Municipality', 'Municipality_norm', 'block_key']],\n",
    "    on='block_key',\n",
    "    suffixes=('_listings', '_rendas')\n",
    ")"
   ]
  },
  {
   "cell_type": "markdown",
   "id": "b57a5cc8",
   "metadata": {},
   "source": [
    "> 🔗 Objetivo: Criar todas as combinações possíveis dentro de cada bloco.\n",
    ">- Une as duas tabelas pelos block_key.\n",
    ">- O resultado é um conjunto de pares candidatos a representar a mesma entidade (concelho), mesmo que com variações no nome."
   ]
  },
  {
   "cell_type": "markdown",
   "id": "4826fc7e",
   "metadata": {},
   "source": [
    "1.4 Calcular as 3 medidas de similaridade"
   ]
  },
  {
   "cell_type": "code",
   "execution_count": 296,
   "id": "942f7a69",
   "metadata": {},
   "outputs": [],
   "source": [
    "candidatos['similaridade_token_sort'] = candidatos.apply(\n",
    "    lambda row: fuzz.token_sort_ratio(row['Municipality_norm_listings'], row['Municipality_norm_rendas']) / 100,\n",
    "    axis=1\n",
    ")\n",
    "\n",
    "candidatos['similaridade_levenshtein'] = candidatos.apply(\n",
    "    lambda row: fuzz.ratio(row['Municipality_norm_listings'], row['Municipality_norm_rendas']) / 100,\n",
    "    axis=1\n",
    ")\n",
    "\n",
    "candidatos['similaridade_token_set'] = candidatos.apply(\n",
    "    lambda row: fuzz.token_set_ratio(row['Municipality_norm_listings'], row['Municipality_norm_rendas']) / 100,\n",
    "    axis=1\n",
    ")"
   ]
  },
  {
   "cell_type": "markdown",
   "id": "c9661b37",
   "metadata": {},
   "source": [
    "> 📐 Objetivo: Avaliar o grau de semelhança entre os nomes dos concelhos nos dois datasets usando 3 métricas:\n",
    "> -    `token_sort_ratio`: ordena as palavras antes de comparar, útil quando a ordem das palavras varia.\n",
    "> -    `ratio (Levenshtein)`: mede a distância de edição entre as strings.\n",
    "> -    `token_set_ratio`: ignora palavras repetidas e compara subconjuntos únicos, ideal quando há muitos termos comuns.\n",
    "> Valores de `0` (menos similar) a `1` (mais similar)."
   ]
  },
  {
   "cell_type": "markdown",
   "id": "6708a466",
   "metadata": {},
   "source": [
    "1.5 Visualizar os pares com maior similaridade"
   ]
  },
  {
   "cell_type": "code",
   "execution_count": 297,
   "id": "53258540",
   "metadata": {},
   "outputs": [
    {
     "data": {
      "text/html": [
       "<div>\n",
       "<style scoped>\n",
       "    .dataframe tbody tr th:only-of-type {\n",
       "        vertical-align: middle;\n",
       "    }\n",
       "\n",
       "    .dataframe tbody tr th {\n",
       "        vertical-align: top;\n",
       "    }\n",
       "\n",
       "    .dataframe thead th {\n",
       "        text-align: right;\n",
       "    }\n",
       "</style>\n",
       "<table border=\"1\" class=\"dataframe\">\n",
       "  <thead>\n",
       "    <tr style=\"text-align: right;\">\n",
       "      <th></th>\n",
       "      <th>Municipality_listings</th>\n",
       "      <th>Municipality_rendas</th>\n",
       "      <th>similaridade_token_sort</th>\n",
       "      <th>similaridade_levenshtein</th>\n",
       "      <th>similaridade_token_set</th>\n",
       "    </tr>\n",
       "  </thead>\n",
       "  <tbody>\n",
       "    <tr>\n",
       "      <th>471810</th>\n",
       "      <td>Valpaços</td>\n",
       "      <td>VALPAÇOS</td>\n",
       "      <td>1.000000</td>\n",
       "      <td>1.000000</td>\n",
       "      <td>1.000000</td>\n",
       "    </tr>\n",
       "    <tr>\n",
       "      <th>0</th>\n",
       "      <td>Valpaços</td>\n",
       "      <td>VALPAÇOS</td>\n",
       "      <td>1.000000</td>\n",
       "      <td>1.000000</td>\n",
       "      <td>1.000000</td>\n",
       "    </tr>\n",
       "    <tr>\n",
       "      <th>471790</th>\n",
       "      <td>Moita</td>\n",
       "      <td>MOITA</td>\n",
       "      <td>1.000000</td>\n",
       "      <td>1.000000</td>\n",
       "      <td>1.000000</td>\n",
       "    </tr>\n",
       "    <tr>\n",
       "      <th>471789</th>\n",
       "      <td>Barreiro</td>\n",
       "      <td>BARREIRO</td>\n",
       "      <td>1.000000</td>\n",
       "      <td>1.000000</td>\n",
       "      <td>1.000000</td>\n",
       "    </tr>\n",
       "    <tr>\n",
       "      <th>471786</th>\n",
       "      <td>Montijo</td>\n",
       "      <td>MONTIJO</td>\n",
       "      <td>1.000000</td>\n",
       "      <td>1.000000</td>\n",
       "      <td>1.000000</td>\n",
       "    </tr>\n",
       "    <tr>\n",
       "      <th>...</th>\n",
       "      <td>...</td>\n",
       "      <td>...</td>\n",
       "      <td>...</td>\n",
       "      <td>...</td>\n",
       "      <td>...</td>\n",
       "    </tr>\n",
       "    <tr>\n",
       "      <th>82394</th>\n",
       "      <td>Santo Tirso</td>\n",
       "      <td>SANTA CRUZ DA GRACIOSA</td>\n",
       "      <td>0.242424</td>\n",
       "      <td>0.424242</td>\n",
       "      <td>0.242424</td>\n",
       "    </tr>\n",
       "    <tr>\n",
       "      <th>88687</th>\n",
       "      <td>Santo Tirso</td>\n",
       "      <td>SANTA CRUZ DA GRACIOSA</td>\n",
       "      <td>0.242424</td>\n",
       "      <td>0.424242</td>\n",
       "      <td>0.242424</td>\n",
       "    </tr>\n",
       "    <tr>\n",
       "      <th>95242</th>\n",
       "      <td>Santo Tirso</td>\n",
       "      <td>SANTA CRUZ DA GRACIOSA</td>\n",
       "      <td>0.242424</td>\n",
       "      <td>0.424242</td>\n",
       "      <td>0.242424</td>\n",
       "    </tr>\n",
       "    <tr>\n",
       "      <th>75912</th>\n",
       "      <td>Santo Tirso</td>\n",
       "      <td>SANTA CRUZ DA GRACIOSA</td>\n",
       "      <td>0.242424</td>\n",
       "      <td>0.424242</td>\n",
       "      <td>0.242424</td>\n",
       "    </tr>\n",
       "    <tr>\n",
       "      <th>330865</th>\n",
       "      <td>Santo Tirso</td>\n",
       "      <td>SANTA CRUZ DA GRACIOSA</td>\n",
       "      <td>0.242424</td>\n",
       "      <td>0.424242</td>\n",
       "      <td>0.242424</td>\n",
       "    </tr>\n",
       "  </tbody>\n",
       "</table>\n",
       "<p>471811 rows × 5 columns</p>\n",
       "</div>"
      ],
      "text/plain": [
       "       Municipality_listings     Municipality_rendas  similaridade_token_sort  \\\n",
       "471810              Valpaços                VALPAÇOS                 1.000000   \n",
       "0                   Valpaços                VALPAÇOS                 1.000000   \n",
       "471790                 Moita                   MOITA                 1.000000   \n",
       "471789              Barreiro                BARREIRO                 1.000000   \n",
       "471786               Montijo                 MONTIJO                 1.000000   \n",
       "...                      ...                     ...                      ...   \n",
       "82394            Santo Tirso  SANTA CRUZ DA GRACIOSA                 0.242424   \n",
       "88687            Santo Tirso  SANTA CRUZ DA GRACIOSA                 0.242424   \n",
       "95242            Santo Tirso  SANTA CRUZ DA GRACIOSA                 0.242424   \n",
       "75912            Santo Tirso  SANTA CRUZ DA GRACIOSA                 0.242424   \n",
       "330865           Santo Tirso  SANTA CRUZ DA GRACIOSA                 0.242424   \n",
       "\n",
       "        similaridade_levenshtein  similaridade_token_set  \n",
       "471810                  1.000000                1.000000  \n",
       "0                       1.000000                1.000000  \n",
       "471790                  1.000000                1.000000  \n",
       "471789                  1.000000                1.000000  \n",
       "471786                  1.000000                1.000000  \n",
       "...                          ...                     ...  \n",
       "82394                   0.424242                0.242424  \n",
       "88687                   0.424242                0.242424  \n",
       "95242                   0.424242                0.242424  \n",
       "75912                   0.424242                0.242424  \n",
       "330865                  0.424242                0.242424  \n",
       "\n",
       "[471811 rows x 5 columns]"
      ]
     },
     "metadata": {},
     "output_type": "display_data"
    }
   ],
   "source": [
    "top_pares = candidatos.sort_values(by='similaridade_token_sort', ascending=False)\n",
    "\n",
    "display(top_pares[[\n",
    "    'Municipality_listings', 'Municipality_rendas',\n",
    "    'similaridade_token_sort',\n",
    "    'similaridade_levenshtein',\n",
    "    'similaridade_token_set'\n",
    "]])"
   ]
  },
  {
   "cell_type": "markdown",
   "id": "4ae2780a",
   "metadata": {},
   "source": [
    "> Objetivo: Ordenar os pares por similaridade mais alta (com base em `token_sort_ratio`) e apresentar os resultados mais promissores.\n",
    "> - Permite analisar os pares com maior probabilidade de corresponderem à mesma entidade — essencial para fazer identity resolution entre `Municipality` do listings e `Municipality` dos valores de renda."
   ]
  },
  {
   "cell_type": "markdown",
   "id": "19b0902c",
   "metadata": {},
   "source": [
    "#### 2. ✏️ Comparação 2: `listings` vs `densidadePop`"
   ]
  },
  {
   "cell_type": "markdown",
   "id": "8dd2fd44",
   "metadata": {},
   "source": [
    "2.1 Carregar ps datasets tratados"
   ]
  },
  {
   "cell_type": "code",
   "execution_count": 298,
   "id": "2f82d83b",
   "metadata": {},
   "outputs": [],
   "source": [
    "dfListings = pd.read_csv('dados/dados tradados/listingsTratado.csv')\n",
    "dfPop = pd.read_csv('dados/dados tradados/densidadePopTratado.csv')"
   ]
  },
  {
   "cell_type": "markdown",
   "id": "ce265a6d",
   "metadata": {},
   "source": [
    "\n",
    "> 🧾 **Objetivo:** Importar os datasets tratados para análise — neste caso, os listings e a densidade populacional (`densidadePop`).  \n",
    "> Ambos foram previamente limpos e normalizados, incluindo a coluna `Municipality_norm`.\n"
   ]
  },
  {
   "cell_type": "markdown",
   "id": "b8676ca3",
   "metadata": {},
   "source": [
    "2.2 Criar chave de blocking"
   ]
  },
  {
   "cell_type": "code",
   "execution_count": 299,
   "id": "d987493d",
   "metadata": {},
   "outputs": [],
   "source": [
    "dfListings['block_key'] = dfListings['Municipality_norm'].str[:4]\n",
    "dfPop['block_key'] = dfPop['Municipality_norm'].str[:4]"
   ]
  },
  {
   "cell_type": "markdown",
   "id": "7942e5c5",
   "metadata": {},
   "source": [
    "> 🔍 **Objetivo:** Reduzir o número de comparações com base em blocos.  \n",
    "> - A chave `block_key` é extraída dos primeiros 4 caracteres da `Municipality_norm`.  \n",
    "> - Isso permite comparar apenas localidades com nomes semelhantes, reduzindo falsos positivos."
   ]
  },
  {
   "cell_type": "markdown",
   "id": "96953321",
   "metadata": {},
   "source": [
    "2.3 Gerar pares candidatos com base no bloco"
   ]
  },
  {
   "cell_type": "code",
   "execution_count": 300,
   "id": "87f671d5",
   "metadata": {},
   "outputs": [],
   "source": [
    "candidatosPop = pd.merge(\n",
    "    dfListings[['Municipality', 'Municipality_norm', 'block_key']],\n",
    "    dfPop[['Municipality', 'Municipality_norm', 'block_key']],\n",
    "    on='block_key',\n",
    "    suffixes=('_listings', '_pop')\n",
    ")"
   ]
  },
  {
   "cell_type": "markdown",
   "id": "b68940a2",
   "metadata": {},
   "source": [
    "> 🔗 **Objetivo:** Criar pares candidatos dentro de cada bloco.  \n",
    "> - Junta ambos os datasets através do `block_key`.  \n",
    "> - Resulta em pares com potencial para corresponder à mesma entidade."
   ]
  },
  {
   "cell_type": "markdown",
   "id": "86869289",
   "metadata": {},
   "source": [
    "2.4 Calcular as 3 medidas de similaridade"
   ]
  },
  {
   "cell_type": "code",
   "execution_count": 301,
   "id": "5f8d2edd",
   "metadata": {},
   "outputs": [],
   "source": [
    "candidatosPop['similaridade_token_sort'] = candidatosPop.apply(\n",
    "    lambda row: fuzz.token_sort_ratio(row['Municipality_norm_listings'], row['Municipality_norm_pop']) / 100,\n",
    "    axis=1\n",
    ")\n",
    "\n",
    "candidatosPop['similaridade_levenshtein'] = candidatosPop.apply(\n",
    "    lambda row: fuzz.ratio(row['Municipality_norm_listings'], row['Municipality_norm_pop']) / 100,\n",
    "    axis=1\n",
    ")\n",
    "\n",
    "candidatosPop['similaridade_token_set'] = candidatosPop.apply(\n",
    "    lambda row: fuzz.token_set_ratio(row['Municipality_norm_listings'], row['Municipality_norm_pop']) / 100,\n",
    "    axis=1\n",
    ")"
   ]
  },
  {
   "cell_type": "markdown",
   "id": "d63ece35",
   "metadata": {},
   "source": [
    "> 📐 **Objetivo:** Avaliar semelhança textual entre os nomes das localidades.  \n",
    "> - `token_sort_ratio`: útil se a ordem das palavras varia.  \n",
    "> - `ratio`: mede a distância de edição.  \n",
    "> - `token_set_ratio`: ideal quando há muitos termos comuns entre os nomes."
   ]
  },
  {
   "cell_type": "markdown",
   "id": "4bc0289d",
   "metadata": {},
   "source": [
    "2.5 Visualizar os pares com maior similaridade"
   ]
  },
  {
   "cell_type": "code",
   "execution_count": 302,
   "id": "5d12e74c",
   "metadata": {},
   "outputs": [
    {
     "data": {
      "text/html": [
       "<div>\n",
       "<style scoped>\n",
       "    .dataframe tbody tr th:only-of-type {\n",
       "        vertical-align: middle;\n",
       "    }\n",
       "\n",
       "    .dataframe tbody tr th {\n",
       "        vertical-align: top;\n",
       "    }\n",
       "\n",
       "    .dataframe thead th {\n",
       "        text-align: right;\n",
       "    }\n",
       "</style>\n",
       "<table border=\"1\" class=\"dataframe\">\n",
       "  <thead>\n",
       "    <tr style=\"text-align: right;\">\n",
       "      <th></th>\n",
       "      <th>Municipality_listings</th>\n",
       "      <th>Municipality_pop</th>\n",
       "      <th>similaridade_token_sort</th>\n",
       "      <th>similaridade_levenshtein</th>\n",
       "      <th>similaridade_token_set</th>\n",
       "    </tr>\n",
       "  </thead>\n",
       "  <tbody>\n",
       "    <tr>\n",
       "      <th>494913</th>\n",
       "      <td>Valpaços</td>\n",
       "      <td>Valpaços</td>\n",
       "      <td>1.000000</td>\n",
       "      <td>1.000000</td>\n",
       "      <td>1.000000</td>\n",
       "    </tr>\n",
       "    <tr>\n",
       "      <th>0</th>\n",
       "      <td>Valpaços</td>\n",
       "      <td>Valpaços</td>\n",
       "      <td>1.000000</td>\n",
       "      <td>1.000000</td>\n",
       "      <td>1.000000</td>\n",
       "    </tr>\n",
       "    <tr>\n",
       "      <th>494894</th>\n",
       "      <td>Montalegre</td>\n",
       "      <td>Montalegre</td>\n",
       "      <td>1.000000</td>\n",
       "      <td>1.000000</td>\n",
       "      <td>1.000000</td>\n",
       "    </tr>\n",
       "    <tr>\n",
       "      <th>494893</th>\n",
       "      <td>Moita</td>\n",
       "      <td>Moita</td>\n",
       "      <td>1.000000</td>\n",
       "      <td>1.000000</td>\n",
       "      <td>1.000000</td>\n",
       "    </tr>\n",
       "    <tr>\n",
       "      <th>494892</th>\n",
       "      <td>Barreiro</td>\n",
       "      <td>Barreiro</td>\n",
       "      <td>1.000000</td>\n",
       "      <td>1.000000</td>\n",
       "      <td>1.000000</td>\n",
       "    </tr>\n",
       "    <tr>\n",
       "      <th>...</th>\n",
       "      <td>...</td>\n",
       "      <td>...</td>\n",
       "      <td>...</td>\n",
       "      <td>...</td>\n",
       "      <td>...</td>\n",
       "    </tr>\n",
       "    <tr>\n",
       "      <th>161261</th>\n",
       "      <td>Santo Tirso</td>\n",
       "      <td>Santa Cruz da Graciosa</td>\n",
       "      <td>0.242424</td>\n",
       "      <td>0.424242</td>\n",
       "      <td>0.242424</td>\n",
       "    </tr>\n",
       "    <tr>\n",
       "      <th>161077</th>\n",
       "      <td>Santo Tirso</td>\n",
       "      <td>Santa Cruz da Graciosa</td>\n",
       "      <td>0.242424</td>\n",
       "      <td>0.424242</td>\n",
       "      <td>0.242424</td>\n",
       "    </tr>\n",
       "    <tr>\n",
       "      <th>134729</th>\n",
       "      <td>Santo Tirso</td>\n",
       "      <td>Santa Cruz da Graciosa</td>\n",
       "      <td>0.242424</td>\n",
       "      <td>0.424242</td>\n",
       "      <td>0.242424</td>\n",
       "    </tr>\n",
       "    <tr>\n",
       "      <th>360334</th>\n",
       "      <td>Santo Tirso</td>\n",
       "      <td>Santa Cruz da Graciosa</td>\n",
       "      <td>0.242424</td>\n",
       "      <td>0.424242</td>\n",
       "      <td>0.242424</td>\n",
       "    </tr>\n",
       "    <tr>\n",
       "      <th>98602</th>\n",
       "      <td>Santo Tirso</td>\n",
       "      <td>Santa Cruz da Graciosa</td>\n",
       "      <td>0.242424</td>\n",
       "      <td>0.424242</td>\n",
       "      <td>0.242424</td>\n",
       "    </tr>\n",
       "  </tbody>\n",
       "</table>\n",
       "<p>494914 rows × 5 columns</p>\n",
       "</div>"
      ],
      "text/plain": [
       "       Municipality_listings        Municipality_pop  similaridade_token_sort  \\\n",
       "494913              Valpaços                Valpaços                 1.000000   \n",
       "0                   Valpaços                Valpaços                 1.000000   \n",
       "494894            Montalegre              Montalegre                 1.000000   \n",
       "494893                 Moita                   Moita                 1.000000   \n",
       "494892              Barreiro                Barreiro                 1.000000   \n",
       "...                      ...                     ...                      ...   \n",
       "161261           Santo Tirso  Santa Cruz da Graciosa                 0.242424   \n",
       "161077           Santo Tirso  Santa Cruz da Graciosa                 0.242424   \n",
       "134729           Santo Tirso  Santa Cruz da Graciosa                 0.242424   \n",
       "360334           Santo Tirso  Santa Cruz da Graciosa                 0.242424   \n",
       "98602            Santo Tirso  Santa Cruz da Graciosa                 0.242424   \n",
       "\n",
       "        similaridade_levenshtein  similaridade_token_set  \n",
       "494913                  1.000000                1.000000  \n",
       "0                       1.000000                1.000000  \n",
       "494894                  1.000000                1.000000  \n",
       "494893                  1.000000                1.000000  \n",
       "494892                  1.000000                1.000000  \n",
       "...                          ...                     ...  \n",
       "161261                  0.424242                0.242424  \n",
       "161077                  0.424242                0.242424  \n",
       "134729                  0.424242                0.242424  \n",
       "360334                  0.424242                0.242424  \n",
       "98602                   0.424242                0.242424  \n",
       "\n",
       "[494914 rows x 5 columns]"
      ]
     },
     "metadata": {},
     "output_type": "display_data"
    }
   ],
   "source": [
    "top_pares_pop = candidatosPop.sort_values(by='similaridade_token_sort', ascending=False)\n",
    "\n",
    "display(top_pares_pop[[\n",
    "    'Municipality_listings', 'Municipality_pop',\n",
    "    'similaridade_token_sort',\n",
    "    'similaridade_levenshtein',\n",
    "    'similaridade_token_set'\n",
    "]])"
   ]
  },
  {
   "cell_type": "markdown",
   "id": "227311ee",
   "metadata": {},
   "source": [
    "> 📊 **Objetivo:** Mostrar os pares com maior probabilidade de corresponderem à mesma entidade (`Municipality`).  \n",
    "> Essencial para ligar listings à densidade populacional ao nível do concelho."
   ]
  },
  {
   "cell_type": "markdown",
   "id": "465340cb",
   "metadata": {},
   "source": [
    "#### 3. ✏️ Comparação 2: `listings` vs `densidadeAloj`"
   ]
  },
  {
   "cell_type": "markdown",
   "id": "ba3c7bfc",
   "metadata": {},
   "source": [
    "3.1 Carregar os datasets tratados"
   ]
  },
  {
   "cell_type": "code",
   "execution_count": 303,
   "id": "f9fe3e91",
   "metadata": {},
   "outputs": [],
   "source": [
    "dfListings = pd.read_csv('dados/dados tradados/listingsTratado.csv')\n",
    "dfAloj = pd.read_csv('dados/dados tradados/densidadeAlojTratado.csv')"
   ]
  },
  {
   "cell_type": "markdown",
   "id": "ea2fa7ef",
   "metadata": {},
   "source": [
    "> 🧾 **Objetivo:** Importar os datasets normalizados — listings e densidade de alojamentos locais."
   ]
  },
  {
   "cell_type": "markdown",
   "id": "b91c9121",
   "metadata": {},
   "source": [
    "3.2 Criar chave de blocking"
   ]
  },
  {
   "cell_type": "code",
   "execution_count": 304,
   "id": "2bf6d48b",
   "metadata": {},
   "outputs": [],
   "source": [
    "dfListings['block_key'] = dfListings['Municipality_norm'].str[:4]\n",
    "dfAloj['block_key'] = dfAloj['Municipality_norm'].str[:4]"
   ]
  },
  {
   "cell_type": "markdown",
   "id": "719f43ce",
   "metadata": {},
   "source": [
    "> 🔍 **Objetivo:** Aplicar blocking para limitar as comparações a pares com prefixo semelhante.  \n",
    "> Reduz o custo computacional e melhora a precisão da comparação."
   ]
  },
  {
   "cell_type": "markdown",
   "id": "58bc701d",
   "metadata": {},
   "source": [
    "3.3 Gerar pares candidatos com base no bloco"
   ]
  },
  {
   "cell_type": "code",
   "execution_count": 305,
   "id": "631d0c7f",
   "metadata": {},
   "outputs": [],
   "source": [
    "candidatosAloj = pd.merge(\n",
    "    dfListings[['Municipality', 'Municipality_norm', 'block_key']],\n",
    "    dfAloj[['Municipality', 'Municipality_norm', 'block_key']],\n",
    "    on='block_key',\n",
    "    suffixes=('_listings', '_aloj')\n",
    ")"
   ]
  },
  {
   "cell_type": "markdown",
   "id": "753d399c",
   "metadata": {},
   "source": [
    "> 🔗 **Objetivo:** Obter pares candidatos entre listings e densidade de alojamento.  \n",
    "> Os pares são agrupados com base na chave de blocking."
   ]
  },
  {
   "cell_type": "markdown",
   "id": "467937f2",
   "metadata": {},
   "source": [
    "3.4 Calcular as 3 medidas de similaridade"
   ]
  },
  {
   "cell_type": "code",
   "execution_count": 306,
   "id": "792ac011",
   "metadata": {},
   "outputs": [],
   "source": [
    "candidatosAloj['similaridade_token_sort'] = candidatosAloj.apply(\n",
    "    lambda row: fuzz.token_sort_ratio(row['Municipality_norm_listings'], row['Municipality_norm_aloj']) / 100,\n",
    "    axis=1\n",
    ")\n",
    "\n",
    "candidatosAloj['similaridade_levenshtein'] = candidatosAloj.apply(\n",
    "    lambda row: fuzz.ratio(row['Municipality_norm_listings'], row['Municipality_norm_aloj']) / 100,\n",
    "    axis=1\n",
    ")\n",
    "\n",
    "candidatosAloj['similaridade_token_set'] = candidatosAloj.apply(\n",
    "    lambda row: fuzz.token_set_ratio(row['Municipality_norm_listings'], row['Municipality_norm_aloj']) / 100,\n",
    "    axis=1\n",
    ")"
   ]
  },
  {
   "cell_type": "markdown",
   "id": "ade53d3d",
   "metadata": {},
   "source": [
    "> 📐 **Objetivo:** Calcular a similaridade entre nomes para facilitar a correspondência automática.  \n",
    "> As três métricas permitem complementar a análise em diferentes cenários de variação textual."
   ]
  },
  {
   "cell_type": "markdown",
   "id": "9201b119",
   "metadata": {},
   "source": [
    "3.5 Visualizar os pares com maior similaridade"
   ]
  },
  {
   "cell_type": "code",
   "execution_count": 307,
   "id": "a8deb7f3",
   "metadata": {},
   "outputs": [
    {
     "data": {
      "text/html": [
       "<div>\n",
       "<style scoped>\n",
       "    .dataframe tbody tr th:only-of-type {\n",
       "        vertical-align: middle;\n",
       "    }\n",
       "\n",
       "    .dataframe tbody tr th {\n",
       "        vertical-align: top;\n",
       "    }\n",
       "\n",
       "    .dataframe thead th {\n",
       "        text-align: right;\n",
       "    }\n",
       "</style>\n",
       "<table border=\"1\" class=\"dataframe\">\n",
       "  <thead>\n",
       "    <tr style=\"text-align: right;\">\n",
       "      <th></th>\n",
       "      <th>Municipality_listings</th>\n",
       "      <th>Municipality_aloj</th>\n",
       "      <th>similaridade_token_sort</th>\n",
       "      <th>similaridade_levenshtein</th>\n",
       "      <th>similaridade_token_set</th>\n",
       "    </tr>\n",
       "  </thead>\n",
       "  <tbody>\n",
       "    <tr>\n",
       "      <th>471810</th>\n",
       "      <td>Valpaços</td>\n",
       "      <td>VALPAÇOS</td>\n",
       "      <td>1.000000</td>\n",
       "      <td>1.000000</td>\n",
       "      <td>1.000000</td>\n",
       "    </tr>\n",
       "    <tr>\n",
       "      <th>0</th>\n",
       "      <td>Valpaços</td>\n",
       "      <td>VALPAÇOS</td>\n",
       "      <td>1.000000</td>\n",
       "      <td>1.000000</td>\n",
       "      <td>1.000000</td>\n",
       "    </tr>\n",
       "    <tr>\n",
       "      <th>471790</th>\n",
       "      <td>Moita</td>\n",
       "      <td>MOITA</td>\n",
       "      <td>1.000000</td>\n",
       "      <td>1.000000</td>\n",
       "      <td>1.000000</td>\n",
       "    </tr>\n",
       "    <tr>\n",
       "      <th>471789</th>\n",
       "      <td>Barreiro</td>\n",
       "      <td>BARREIRO</td>\n",
       "      <td>1.000000</td>\n",
       "      <td>1.000000</td>\n",
       "      <td>1.000000</td>\n",
       "    </tr>\n",
       "    <tr>\n",
       "      <th>471786</th>\n",
       "      <td>Montijo</td>\n",
       "      <td>MONTIJO</td>\n",
       "      <td>1.000000</td>\n",
       "      <td>1.000000</td>\n",
       "      <td>1.000000</td>\n",
       "    </tr>\n",
       "    <tr>\n",
       "      <th>...</th>\n",
       "      <td>...</td>\n",
       "      <td>...</td>\n",
       "      <td>...</td>\n",
       "      <td>...</td>\n",
       "      <td>...</td>\n",
       "    </tr>\n",
       "    <tr>\n",
       "      <th>82394</th>\n",
       "      <td>Santo Tirso</td>\n",
       "      <td>SANTA CRUZ DA GRACIOSA</td>\n",
       "      <td>0.242424</td>\n",
       "      <td>0.424242</td>\n",
       "      <td>0.242424</td>\n",
       "    </tr>\n",
       "    <tr>\n",
       "      <th>88687</th>\n",
       "      <td>Santo Tirso</td>\n",
       "      <td>SANTA CRUZ DA GRACIOSA</td>\n",
       "      <td>0.242424</td>\n",
       "      <td>0.424242</td>\n",
       "      <td>0.242424</td>\n",
       "    </tr>\n",
       "    <tr>\n",
       "      <th>95242</th>\n",
       "      <td>Santo Tirso</td>\n",
       "      <td>SANTA CRUZ DA GRACIOSA</td>\n",
       "      <td>0.242424</td>\n",
       "      <td>0.424242</td>\n",
       "      <td>0.242424</td>\n",
       "    </tr>\n",
       "    <tr>\n",
       "      <th>75912</th>\n",
       "      <td>Santo Tirso</td>\n",
       "      <td>SANTA CRUZ DA GRACIOSA</td>\n",
       "      <td>0.242424</td>\n",
       "      <td>0.424242</td>\n",
       "      <td>0.242424</td>\n",
       "    </tr>\n",
       "    <tr>\n",
       "      <th>330865</th>\n",
       "      <td>Santo Tirso</td>\n",
       "      <td>SANTA CRUZ DA GRACIOSA</td>\n",
       "      <td>0.242424</td>\n",
       "      <td>0.424242</td>\n",
       "      <td>0.242424</td>\n",
       "    </tr>\n",
       "  </tbody>\n",
       "</table>\n",
       "<p>471811 rows × 5 columns</p>\n",
       "</div>"
      ],
      "text/plain": [
       "       Municipality_listings       Municipality_aloj  similaridade_token_sort  \\\n",
       "471810              Valpaços                VALPAÇOS                 1.000000   \n",
       "0                   Valpaços                VALPAÇOS                 1.000000   \n",
       "471790                 Moita                   MOITA                 1.000000   \n",
       "471789              Barreiro                BARREIRO                 1.000000   \n",
       "471786               Montijo                 MONTIJO                 1.000000   \n",
       "...                      ...                     ...                      ...   \n",
       "82394            Santo Tirso  SANTA CRUZ DA GRACIOSA                 0.242424   \n",
       "88687            Santo Tirso  SANTA CRUZ DA GRACIOSA                 0.242424   \n",
       "95242            Santo Tirso  SANTA CRUZ DA GRACIOSA                 0.242424   \n",
       "75912            Santo Tirso  SANTA CRUZ DA GRACIOSA                 0.242424   \n",
       "330865           Santo Tirso  SANTA CRUZ DA GRACIOSA                 0.242424   \n",
       "\n",
       "        similaridade_levenshtein  similaridade_token_set  \n",
       "471810                  1.000000                1.000000  \n",
       "0                       1.000000                1.000000  \n",
       "471790                  1.000000                1.000000  \n",
       "471789                  1.000000                1.000000  \n",
       "471786                  1.000000                1.000000  \n",
       "...                          ...                     ...  \n",
       "82394                   0.424242                0.242424  \n",
       "88687                   0.424242                0.242424  \n",
       "95242                   0.424242                0.242424  \n",
       "75912                   0.424242                0.242424  \n",
       "330865                  0.424242                0.242424  \n",
       "\n",
       "[471811 rows x 5 columns]"
      ]
     },
     "metadata": {},
     "output_type": "display_data"
    }
   ],
   "source": [
    "top_pares_aloj = candidatosAloj.sort_values(by='similaridade_token_sort', ascending=False)\n",
    "\n",
    "display(top_pares_aloj[[\n",
    "    'Municipality_listings', 'Municipality_aloj',\n",
    "    'similaridade_token_sort',\n",
    "    'similaridade_levenshtein',\n",
    "    'similaridade_token_set'\n",
    "]])"
   ]
  },
  {
   "cell_type": "markdown",
   "id": "af42319c",
   "metadata": {},
   "source": [
    "> 📊 **Objetivo:** Analisar os melhores pares encontrados entre listings e densidade de alojamento local.  \n",
    "> Essencial para realizar a correspondência automática entre os datasets."
   ]
  },
  {
   "cell_type": "markdown",
   "id": "8562dd90",
   "metadata": {},
   "source": [
    "### ✅ Conclusão da Resolução de Identidade\n",
    "\n",
    "Com base na estratégia de **blocking por prefixo** e no uso de três métricas complementares de similaridade textual (`token_sort`, `token_set` e `Levenshtein`), foi possível gerar uma lista de pares candidatos com elevada probabilidade de corresponderem à mesma entidade (concelho), mesmo quando os nomes diferem ligeiramente entre datasets.\n",
    "\n",
    "Este processo de **identity resolution** é fundamental para garantir a correta junção entre os dados dos `listings` e os restantes datasets (`rendasm2`, `densidadePopulacional`, etc.), assegurando que os valores agregados por concelho sejam coerentes e fiáveis.\n",
    "\n",
    "As próximas etapas poderão incluir:\n",
    "- Definir um **limiar de corte** para considerar pares como correspondentes (ex: ≥ 0.9 em `token_sort`);\n",
    "- Realizar a **atribuição de `MunicipalityCode` ao dataset `listings`**, com base nos matches mais prováveis;\n",
    "- Integrar os datasets agora harmonizados para análise estatística e visualização dos impactos territoriais.\n",
    "\n",
    "Este processo completa a **Fase 1** do projeto, deixando os dados prontos para análise cruzada, correlações e visualizações interativas.\n"
   ]
  },
  {
   "cell_type": "markdown",
   "id": "48691919",
   "metadata": {},
   "source": [
    "---"
   ]
  },
  {
   "cell_type": "markdown",
   "id": "0f7b107b",
   "metadata": {},
   "source": [
    "## 🧾 Conclusões e Trabalho Futuro\n",
    "\n",
    "A Fase 1 do projeto consistiu na importação, profiling, limpeza, preparação e início da integração de múltiplos datasets relacionados com o impacto dos Alojamentos Locais (Airbnb) no mercado habitacional português.\n",
    "\n",
    "### ✅ Conclusões\n",
    "\n",
    "- Os dados foram transformados e normalizados de forma a garantir **consistência semântica e estrutural** entre fontes com granularidade e formato distintos;\n",
    "- Foi adotado um **modelo de integração baseado no concelho (`MunicipalityCode`)**, com o apoio de chaves auxiliares (`Municipality_norm`) para facilitar junções;\n",
    "- Técnicas de **blocking e similarity metrics** permitiram gerar pares candidatos para a resolução de identidade, essencial para ligar dados do `portugal_listings` (sem `geocod`) aos restantes datasets georreferenciados;\n",
    "- As três métricas escolhidas (Levenshtein, token_sort, token_set) mostraram-se eficazes na identificação de correspondências mesmo com nomes ambíguos, longos ou com ordem trocada.\n",
    "\n",
    "### 🔮 Trabalho Futuro\n",
    "\n",
    "- **Definir limiares de confiança** para aceitar ou rejeitar pares com base nas medidas de similaridade (ex: ≥ 0.90);\n",
    "- **Atribuir `MunicipalityCode` ao dataset `listings`** com base nos matches validados;\n",
    "- **Integrar os datasets finais** para construir uma tabela única por concelho com: média de preços, densidade populacional, densidade de alojamentos e valor médio de renda;\n",
    "- Aplicar **visualizações interativas** (ex: choropleths) para explorar o impacto do alojamento local;\n",
    "- Avaliar possíveis **correlações** entre as variáveis — por exemplo, se maior densidade de listings está associada a aumento de preços ou densidade populacional.\n",
    "\n",
    "---\n",
    "\n",
    "> Esta preparação abre caminho para análises exploratórias, estatísticas e preditivas que respondam à questão central:  \n",
    "**Qual o impacto da proliferação de Alojamentos Locais no custo e estrutura urbana do mercado de habitação em Portugal?**\n"
   ]
  }
 ],
 "metadata": {
  "kernelspec": {
   "display_name": "Python 3",
   "language": "python",
   "name": "python3"
  },
  "language_info": {
   "codemirror_mode": {
    "name": "ipython",
    "version": 3
   },
   "file_extension": ".py",
   "mimetype": "text/x-python",
   "name": "python",
   "nbconvert_exporter": "python",
   "pygments_lexer": "ipython3",
   "version": "3.12.2"
  }
 },
 "nbformat": 4,
 "nbformat_minor": 5
}
